{
 "cells": [
  {
   "cell_type": "code",
   "execution_count": 1,
   "metadata": {},
   "outputs": [],
   "source": [
    "import pandas as pd\n",
    "import numpy as np\n",
    "from nltk.tokenize import word_tokenize\n",
    "from nltk import pos_tag\n",
    "from nltk.corpus import stopwords\n",
    "from nltk.stem import WordNetLemmatizer\n",
    "from sklearn.preprocessing import LabelEncoder\n",
    "from collections import defaultdict\n",
    "from nltk.corpus import wordnet as wn\n",
    "from sklearn.feature_extraction.text import TfidfVectorizer\n",
    "from sklearn import model_selection, naive_bayes, svm\n",
    "from sklearn.metrics import accuracy_score\n",
    "import pickle"
   ]
  },
  {
   "cell_type": "code",
   "execution_count": 2,
   "metadata": {},
   "outputs": [
    {
     "name": "stderr",
     "output_type": "stream",
     "text": [
      "[nltk_data] Downloading collection 'all'\n",
      "[nltk_data]    | \n",
      "[nltk_data]    | Downloading package abc to\n",
      "[nltk_data]    |     C:\\Users\\ADMIN\\AppData\\Roaming\\nltk_data...\n",
      "[nltk_data]    |   Package abc is already up-to-date!\n",
      "[nltk_data]    | Downloading package alpino to\n",
      "[nltk_data]    |     C:\\Users\\ADMIN\\AppData\\Roaming\\nltk_data...\n",
      "[nltk_data]    |   Package alpino is already up-to-date!\n",
      "[nltk_data]    | Downloading package biocreative_ppi to\n",
      "[nltk_data]    |     C:\\Users\\ADMIN\\AppData\\Roaming\\nltk_data...\n",
      "[nltk_data]    |   Package biocreative_ppi is already up-to-date!\n",
      "[nltk_data]    | Downloading package brown to\n",
      "[nltk_data]    |     C:\\Users\\ADMIN\\AppData\\Roaming\\nltk_data...\n",
      "[nltk_data]    |   Package brown is already up-to-date!\n",
      "[nltk_data]    | Downloading package brown_tei to\n",
      "[nltk_data]    |     C:\\Users\\ADMIN\\AppData\\Roaming\\nltk_data...\n",
      "[nltk_data]    |   Package brown_tei is already up-to-date!\n",
      "[nltk_data]    | Downloading package cess_cat to\n",
      "[nltk_data]    |     C:\\Users\\ADMIN\\AppData\\Roaming\\nltk_data...\n",
      "[nltk_data]    |   Package cess_cat is already up-to-date!\n",
      "[nltk_data]    | Downloading package cess_esp to\n",
      "[nltk_data]    |     C:\\Users\\ADMIN\\AppData\\Roaming\\nltk_data...\n",
      "[nltk_data]    |   Package cess_esp is already up-to-date!\n",
      "[nltk_data]    | Downloading package chat80 to\n",
      "[nltk_data]    |     C:\\Users\\ADMIN\\AppData\\Roaming\\nltk_data...\n",
      "[nltk_data]    |   Package chat80 is already up-to-date!\n",
      "[nltk_data]    | Downloading package city_database to\n",
      "[nltk_data]    |     C:\\Users\\ADMIN\\AppData\\Roaming\\nltk_data...\n",
      "[nltk_data]    |   Package city_database is already up-to-date!\n",
      "[nltk_data]    | Downloading package cmudict to\n",
      "[nltk_data]    |     C:\\Users\\ADMIN\\AppData\\Roaming\\nltk_data...\n",
      "[nltk_data]    |   Package cmudict is already up-to-date!\n",
      "[nltk_data]    | Downloading package comparative_sentences to\n",
      "[nltk_data]    |     C:\\Users\\ADMIN\\AppData\\Roaming\\nltk_data...\n",
      "[nltk_data]    |   Package comparative_sentences is already up-to-\n",
      "[nltk_data]    |       date!\n",
      "[nltk_data]    | Downloading package comtrans to\n",
      "[nltk_data]    |     C:\\Users\\ADMIN\\AppData\\Roaming\\nltk_data...\n",
      "[nltk_data]    |   Package comtrans is already up-to-date!\n",
      "[nltk_data]    | Downloading package conll2000 to\n",
      "[nltk_data]    |     C:\\Users\\ADMIN\\AppData\\Roaming\\nltk_data...\n",
      "[nltk_data]    |   Package conll2000 is already up-to-date!\n",
      "[nltk_data]    | Downloading package conll2002 to\n",
      "[nltk_data]    |     C:\\Users\\ADMIN\\AppData\\Roaming\\nltk_data...\n",
      "[nltk_data]    |   Package conll2002 is already up-to-date!\n",
      "[nltk_data]    | Downloading package conll2007 to\n",
      "[nltk_data]    |     C:\\Users\\ADMIN\\AppData\\Roaming\\nltk_data...\n",
      "[nltk_data]    |   Package conll2007 is already up-to-date!\n",
      "[nltk_data]    | Downloading package crubadan to\n",
      "[nltk_data]    |     C:\\Users\\ADMIN\\AppData\\Roaming\\nltk_data...\n",
      "[nltk_data]    |   Package crubadan is already up-to-date!\n",
      "[nltk_data]    | Downloading package dependency_treebank to\n",
      "[nltk_data]    |     C:\\Users\\ADMIN\\AppData\\Roaming\\nltk_data...\n",
      "[nltk_data]    |   Package dependency_treebank is already up-to-date!\n",
      "[nltk_data]    | Downloading package dolch to\n",
      "[nltk_data]    |     C:\\Users\\ADMIN\\AppData\\Roaming\\nltk_data...\n",
      "[nltk_data]    |   Package dolch is already up-to-date!\n",
      "[nltk_data]    | Downloading package europarl_raw to\n",
      "[nltk_data]    |     C:\\Users\\ADMIN\\AppData\\Roaming\\nltk_data...\n",
      "[nltk_data]    |   Package europarl_raw is already up-to-date!\n",
      "[nltk_data]    | Downloading package floresta to\n",
      "[nltk_data]    |     C:\\Users\\ADMIN\\AppData\\Roaming\\nltk_data...\n",
      "[nltk_data]    |   Package floresta is already up-to-date!\n",
      "[nltk_data]    | Downloading package framenet_v15 to\n",
      "[nltk_data]    |     C:\\Users\\ADMIN\\AppData\\Roaming\\nltk_data...\n",
      "[nltk_data]    |   Package framenet_v15 is already up-to-date!\n",
      "[nltk_data]    | Downloading package framenet_v17 to\n",
      "[nltk_data]    |     C:\\Users\\ADMIN\\AppData\\Roaming\\nltk_data...\n",
      "[nltk_data]    |   Package framenet_v17 is already up-to-date!\n",
      "[nltk_data]    | Downloading package gazetteers to\n",
      "[nltk_data]    |     C:\\Users\\ADMIN\\AppData\\Roaming\\nltk_data...\n",
      "[nltk_data]    |   Package gazetteers is already up-to-date!\n",
      "[nltk_data]    | Downloading package genesis to\n",
      "[nltk_data]    |     C:\\Users\\ADMIN\\AppData\\Roaming\\nltk_data...\n",
      "[nltk_data]    |   Package genesis is already up-to-date!\n",
      "[nltk_data]    | Downloading package gutenberg to\n",
      "[nltk_data]    |     C:\\Users\\ADMIN\\AppData\\Roaming\\nltk_data...\n",
      "[nltk_data]    |   Package gutenberg is already up-to-date!\n",
      "[nltk_data]    | Downloading package ieer to\n",
      "[nltk_data]    |     C:\\Users\\ADMIN\\AppData\\Roaming\\nltk_data...\n",
      "[nltk_data]    |   Package ieer is already up-to-date!\n",
      "[nltk_data]    | Downloading package inaugural to\n",
      "[nltk_data]    |     C:\\Users\\ADMIN\\AppData\\Roaming\\nltk_data...\n",
      "[nltk_data]    |   Package inaugural is already up-to-date!\n",
      "[nltk_data]    | Downloading package indian to\n",
      "[nltk_data]    |     C:\\Users\\ADMIN\\AppData\\Roaming\\nltk_data...\n",
      "[nltk_data]    |   Package indian is already up-to-date!\n",
      "[nltk_data]    | Downloading package jeita to\n",
      "[nltk_data]    |     C:\\Users\\ADMIN\\AppData\\Roaming\\nltk_data...\n",
      "[nltk_data]    |   Package jeita is already up-to-date!\n",
      "[nltk_data]    | Downloading package kimmo to\n",
      "[nltk_data]    |     C:\\Users\\ADMIN\\AppData\\Roaming\\nltk_data...\n",
      "[nltk_data]    |   Package kimmo is already up-to-date!\n",
      "[nltk_data]    | Downloading package knbc to\n",
      "[nltk_data]    |     C:\\Users\\ADMIN\\AppData\\Roaming\\nltk_data...\n",
      "[nltk_data]    |   Package knbc is already up-to-date!\n",
      "[nltk_data]    | Downloading package lin_thesaurus to\n",
      "[nltk_data]    |     C:\\Users\\ADMIN\\AppData\\Roaming\\nltk_data...\n",
      "[nltk_data]    |   Package lin_thesaurus is already up-to-date!\n",
      "[nltk_data]    | Downloading package mac_morpho to\n",
      "[nltk_data]    |     C:\\Users\\ADMIN\\AppData\\Roaming\\nltk_data...\n",
      "[nltk_data]    |   Package mac_morpho is already up-to-date!\n",
      "[nltk_data]    | Downloading package machado to\n",
      "[nltk_data]    |     C:\\Users\\ADMIN\\AppData\\Roaming\\nltk_data...\n",
      "[nltk_data]    |   Package machado is already up-to-date!\n",
      "[nltk_data]    | Downloading package masc_tagged to\n",
      "[nltk_data]    |     C:\\Users\\ADMIN\\AppData\\Roaming\\nltk_data...\n",
      "[nltk_data]    |   Package masc_tagged is already up-to-date!\n",
      "[nltk_data]    | Downloading package moses_sample to\n",
      "[nltk_data]    |     C:\\Users\\ADMIN\\AppData\\Roaming\\nltk_data...\n",
      "[nltk_data]    |   Package moses_sample is already up-to-date!\n",
      "[nltk_data]    | Downloading package movie_reviews to\n",
      "[nltk_data]    |     C:\\Users\\ADMIN\\AppData\\Roaming\\nltk_data...\n",
      "[nltk_data]    |   Package movie_reviews is already up-to-date!\n",
      "[nltk_data]    | Downloading package names to\n",
      "[nltk_data]    |     C:\\Users\\ADMIN\\AppData\\Roaming\\nltk_data...\n",
      "[nltk_data]    |   Package names is already up-to-date!\n",
      "[nltk_data]    | Downloading package nombank.1.0 to\n",
      "[nltk_data]    |     C:\\Users\\ADMIN\\AppData\\Roaming\\nltk_data...\n",
      "[nltk_data]    |   Package nombank.1.0 is already up-to-date!\n",
      "[nltk_data]    | Downloading package nps_chat to\n",
      "[nltk_data]    |     C:\\Users\\ADMIN\\AppData\\Roaming\\nltk_data...\n",
      "[nltk_data]    |   Package nps_chat is already up-to-date!\n",
      "[nltk_data]    | Downloading package omw to\n",
      "[nltk_data]    |     C:\\Users\\ADMIN\\AppData\\Roaming\\nltk_data...\n",
      "[nltk_data]    |   Package omw is already up-to-date!\n",
      "[nltk_data]    | Downloading package opinion_lexicon to\n",
      "[nltk_data]    |     C:\\Users\\ADMIN\\AppData\\Roaming\\nltk_data...\n",
      "[nltk_data]    |   Package opinion_lexicon is already up-to-date!\n",
      "[nltk_data]    | Downloading package paradigms to\n",
      "[nltk_data]    |     C:\\Users\\ADMIN\\AppData\\Roaming\\nltk_data...\n",
      "[nltk_data]    |   Package paradigms is already up-to-date!\n",
      "[nltk_data]    | Downloading package pil to\n",
      "[nltk_data]    |     C:\\Users\\ADMIN\\AppData\\Roaming\\nltk_data...\n",
      "[nltk_data]    |   Package pil is already up-to-date!\n",
      "[nltk_data]    | Downloading package pl196x to\n",
      "[nltk_data]    |     C:\\Users\\ADMIN\\AppData\\Roaming\\nltk_data...\n",
      "[nltk_data]    |   Package pl196x is already up-to-date!\n",
      "[nltk_data]    | Downloading package ppattach to\n",
      "[nltk_data]    |     C:\\Users\\ADMIN\\AppData\\Roaming\\nltk_data...\n",
      "[nltk_data]    |   Package ppattach is already up-to-date!\n",
      "[nltk_data]    | Downloading package problem_reports to\n",
      "[nltk_data]    |     C:\\Users\\ADMIN\\AppData\\Roaming\\nltk_data...\n",
      "[nltk_data]    |   Package problem_reports is already up-to-date!\n",
      "[nltk_data]    | Downloading package propbank to\n",
      "[nltk_data]    |     C:\\Users\\ADMIN\\AppData\\Roaming\\nltk_data...\n",
      "[nltk_data]    |   Package propbank is already up-to-date!\n",
      "[nltk_data]    | Downloading package ptb to\n",
      "[nltk_data]    |     C:\\Users\\ADMIN\\AppData\\Roaming\\nltk_data...\n",
      "[nltk_data]    |   Package ptb is already up-to-date!\n",
      "[nltk_data]    | Downloading package product_reviews_1 to\n",
      "[nltk_data]    |     C:\\Users\\ADMIN\\AppData\\Roaming\\nltk_data...\n",
      "[nltk_data]    |   Package product_reviews_1 is already up-to-date!\n",
      "[nltk_data]    | Downloading package product_reviews_2 to\n",
      "[nltk_data]    |     C:\\Users\\ADMIN\\AppData\\Roaming\\nltk_data...\n",
      "[nltk_data]    |   Package product_reviews_2 is already up-to-date!\n",
      "[nltk_data]    | Downloading package pros_cons to\n",
      "[nltk_data]    |     C:\\Users\\ADMIN\\AppData\\Roaming\\nltk_data...\n"
     ]
    },
    {
     "name": "stderr",
     "output_type": "stream",
     "text": [
      "[nltk_data]    |   Package pros_cons is already up-to-date!\n",
      "[nltk_data]    | Downloading package qc to\n",
      "[nltk_data]    |     C:\\Users\\ADMIN\\AppData\\Roaming\\nltk_data...\n",
      "[nltk_data]    |   Package qc is already up-to-date!\n",
      "[nltk_data]    | Downloading package reuters to\n",
      "[nltk_data]    |     C:\\Users\\ADMIN\\AppData\\Roaming\\nltk_data...\n",
      "[nltk_data]    |   Package reuters is already up-to-date!\n",
      "[nltk_data]    | Downloading package rte to\n",
      "[nltk_data]    |     C:\\Users\\ADMIN\\AppData\\Roaming\\nltk_data...\n",
      "[nltk_data]    |   Package rte is already up-to-date!\n",
      "[nltk_data]    | Downloading package semcor to\n",
      "[nltk_data]    |     C:\\Users\\ADMIN\\AppData\\Roaming\\nltk_data...\n",
      "[nltk_data]    |   Package semcor is already up-to-date!\n",
      "[nltk_data]    | Downloading package senseval to\n",
      "[nltk_data]    |     C:\\Users\\ADMIN\\AppData\\Roaming\\nltk_data...\n",
      "[nltk_data]    |   Package senseval is already up-to-date!\n",
      "[nltk_data]    | Downloading package sentiwordnet to\n",
      "[nltk_data]    |     C:\\Users\\ADMIN\\AppData\\Roaming\\nltk_data...\n",
      "[nltk_data]    |   Package sentiwordnet is already up-to-date!\n",
      "[nltk_data]    | Downloading package sentence_polarity to\n",
      "[nltk_data]    |     C:\\Users\\ADMIN\\AppData\\Roaming\\nltk_data...\n",
      "[nltk_data]    |   Package sentence_polarity is already up-to-date!\n",
      "[nltk_data]    | Downloading package shakespeare to\n",
      "[nltk_data]    |     C:\\Users\\ADMIN\\AppData\\Roaming\\nltk_data...\n",
      "[nltk_data]    |   Package shakespeare is already up-to-date!\n",
      "[nltk_data]    | Downloading package sinica_treebank to\n",
      "[nltk_data]    |     C:\\Users\\ADMIN\\AppData\\Roaming\\nltk_data...\n",
      "[nltk_data]    |   Package sinica_treebank is already up-to-date!\n",
      "[nltk_data]    | Downloading package smultron to\n",
      "[nltk_data]    |     C:\\Users\\ADMIN\\AppData\\Roaming\\nltk_data...\n",
      "[nltk_data]    |   Package smultron is already up-to-date!\n",
      "[nltk_data]    | Downloading package state_union to\n",
      "[nltk_data]    |     C:\\Users\\ADMIN\\AppData\\Roaming\\nltk_data...\n",
      "[nltk_data]    |   Package state_union is already up-to-date!\n",
      "[nltk_data]    | Downloading package stopwords to\n",
      "[nltk_data]    |     C:\\Users\\ADMIN\\AppData\\Roaming\\nltk_data...\n",
      "[nltk_data]    |   Package stopwords is already up-to-date!\n",
      "[nltk_data]    | Downloading package subjectivity to\n",
      "[nltk_data]    |     C:\\Users\\ADMIN\\AppData\\Roaming\\nltk_data...\n",
      "[nltk_data]    |   Package subjectivity is already up-to-date!\n",
      "[nltk_data]    | Downloading package swadesh to\n",
      "[nltk_data]    |     C:\\Users\\ADMIN\\AppData\\Roaming\\nltk_data...\n",
      "[nltk_data]    |   Package swadesh is already up-to-date!\n",
      "[nltk_data]    | Downloading package switchboard to\n",
      "[nltk_data]    |     C:\\Users\\ADMIN\\AppData\\Roaming\\nltk_data...\n",
      "[nltk_data]    |   Package switchboard is already up-to-date!\n",
      "[nltk_data]    | Downloading package timit to\n",
      "[nltk_data]    |     C:\\Users\\ADMIN\\AppData\\Roaming\\nltk_data...\n",
      "[nltk_data]    |   Package timit is already up-to-date!\n",
      "[nltk_data]    | Downloading package toolbox to\n",
      "[nltk_data]    |     C:\\Users\\ADMIN\\AppData\\Roaming\\nltk_data...\n",
      "[nltk_data]    |   Package toolbox is already up-to-date!\n",
      "[nltk_data]    | Downloading package treebank to\n",
      "[nltk_data]    |     C:\\Users\\ADMIN\\AppData\\Roaming\\nltk_data...\n",
      "[nltk_data]    |   Package treebank is already up-to-date!\n",
      "[nltk_data]    | Downloading package twitter_samples to\n",
      "[nltk_data]    |     C:\\Users\\ADMIN\\AppData\\Roaming\\nltk_data...\n",
      "[nltk_data]    |   Package twitter_samples is already up-to-date!\n",
      "[nltk_data]    | Downloading package udhr to\n",
      "[nltk_data]    |     C:\\Users\\ADMIN\\AppData\\Roaming\\nltk_data...\n",
      "[nltk_data]    |   Package udhr is already up-to-date!\n",
      "[nltk_data]    | Downloading package udhr2 to\n",
      "[nltk_data]    |     C:\\Users\\ADMIN\\AppData\\Roaming\\nltk_data...\n",
      "[nltk_data]    |   Package udhr2 is already up-to-date!\n",
      "[nltk_data]    | Downloading package unicode_samples to\n",
      "[nltk_data]    |     C:\\Users\\ADMIN\\AppData\\Roaming\\nltk_data...\n",
      "[nltk_data]    |   Package unicode_samples is already up-to-date!\n",
      "[nltk_data]    | Downloading package universal_treebanks_v20 to\n",
      "[nltk_data]    |     C:\\Users\\ADMIN\\AppData\\Roaming\\nltk_data...\n",
      "[nltk_data]    |   Package universal_treebanks_v20 is already up-to-\n",
      "[nltk_data]    |       date!\n",
      "[nltk_data]    | Downloading package verbnet to\n",
      "[nltk_data]    |     C:\\Users\\ADMIN\\AppData\\Roaming\\nltk_data...\n",
      "[nltk_data]    |   Package verbnet is already up-to-date!\n",
      "[nltk_data]    | Downloading package verbnet3 to\n",
      "[nltk_data]    |     C:\\Users\\ADMIN\\AppData\\Roaming\\nltk_data...\n",
      "[nltk_data]    |   Package verbnet3 is already up-to-date!\n",
      "[nltk_data]    | Downloading package webtext to\n",
      "[nltk_data]    |     C:\\Users\\ADMIN\\AppData\\Roaming\\nltk_data...\n",
      "[nltk_data]    |   Package webtext is already up-to-date!\n",
      "[nltk_data]    | Downloading package wordnet to\n",
      "[nltk_data]    |     C:\\Users\\ADMIN\\AppData\\Roaming\\nltk_data...\n",
      "[nltk_data]    |   Package wordnet is already up-to-date!\n",
      "[nltk_data]    | Downloading package wordnet_ic to\n",
      "[nltk_data]    |     C:\\Users\\ADMIN\\AppData\\Roaming\\nltk_data...\n",
      "[nltk_data]    |   Package wordnet_ic is already up-to-date!\n",
      "[nltk_data]    | Downloading package words to\n",
      "[nltk_data]    |     C:\\Users\\ADMIN\\AppData\\Roaming\\nltk_data...\n",
      "[nltk_data]    |   Package words is already up-to-date!\n",
      "[nltk_data]    | Downloading package ycoe to\n",
      "[nltk_data]    |     C:\\Users\\ADMIN\\AppData\\Roaming\\nltk_data...\n",
      "[nltk_data]    |   Package ycoe is already up-to-date!\n",
      "[nltk_data]    | Downloading package rslp to\n",
      "[nltk_data]    |     C:\\Users\\ADMIN\\AppData\\Roaming\\nltk_data...\n",
      "[nltk_data]    |   Package rslp is already up-to-date!\n",
      "[nltk_data]    | Downloading package maxent_treebank_pos_tagger to\n",
      "[nltk_data]    |     C:\\Users\\ADMIN\\AppData\\Roaming\\nltk_data...\n",
      "[nltk_data]    |   Package maxent_treebank_pos_tagger is already up-\n",
      "[nltk_data]    |       to-date!\n",
      "[nltk_data]    | Downloading package universal_tagset to\n",
      "[nltk_data]    |     C:\\Users\\ADMIN\\AppData\\Roaming\\nltk_data...\n",
      "[nltk_data]    |   Package universal_tagset is already up-to-date!\n",
      "[nltk_data]    | Downloading package maxent_ne_chunker to\n",
      "[nltk_data]    |     C:\\Users\\ADMIN\\AppData\\Roaming\\nltk_data...\n",
      "[nltk_data]    |   Package maxent_ne_chunker is already up-to-date!\n",
      "[nltk_data]    | Downloading package punkt to\n",
      "[nltk_data]    |     C:\\Users\\ADMIN\\AppData\\Roaming\\nltk_data...\n",
      "[nltk_data]    |   Package punkt is already up-to-date!\n",
      "[nltk_data]    | Downloading package book_grammars to\n",
      "[nltk_data]    |     C:\\Users\\ADMIN\\AppData\\Roaming\\nltk_data...\n",
      "[nltk_data]    |   Package book_grammars is already up-to-date!\n",
      "[nltk_data]    | Downloading package sample_grammars to\n",
      "[nltk_data]    |     C:\\Users\\ADMIN\\AppData\\Roaming\\nltk_data...\n",
      "[nltk_data]    |   Package sample_grammars is already up-to-date!\n",
      "[nltk_data]    | Downloading package spanish_grammars to\n",
      "[nltk_data]    |     C:\\Users\\ADMIN\\AppData\\Roaming\\nltk_data...\n",
      "[nltk_data]    |   Package spanish_grammars is already up-to-date!\n",
      "[nltk_data]    | Downloading package basque_grammars to\n",
      "[nltk_data]    |     C:\\Users\\ADMIN\\AppData\\Roaming\\nltk_data...\n",
      "[nltk_data]    |   Package basque_grammars is already up-to-date!\n",
      "[nltk_data]    | Downloading package large_grammars to\n",
      "[nltk_data]    |     C:\\Users\\ADMIN\\AppData\\Roaming\\nltk_data...\n",
      "[nltk_data]    |   Package large_grammars is already up-to-date!\n",
      "[nltk_data]    | Downloading package tagsets to\n",
      "[nltk_data]    |     C:\\Users\\ADMIN\\AppData\\Roaming\\nltk_data...\n",
      "[nltk_data]    |   Package tagsets is already up-to-date!\n",
      "[nltk_data]    | Downloading package snowball_data to\n",
      "[nltk_data]    |     C:\\Users\\ADMIN\\AppData\\Roaming\\nltk_data...\n",
      "[nltk_data]    |   Package snowball_data is already up-to-date!\n",
      "[nltk_data]    | Downloading package bllip_wsj_no_aux to\n",
      "[nltk_data]    |     C:\\Users\\ADMIN\\AppData\\Roaming\\nltk_data...\n",
      "[nltk_data]    |   Package bllip_wsj_no_aux is already up-to-date!\n",
      "[nltk_data]    | Downloading package word2vec_sample to\n",
      "[nltk_data]    |     C:\\Users\\ADMIN\\AppData\\Roaming\\nltk_data...\n",
      "[nltk_data]    |   Package word2vec_sample is already up-to-date!\n",
      "[nltk_data]    | Downloading package panlex_swadesh to\n",
      "[nltk_data]    |     C:\\Users\\ADMIN\\AppData\\Roaming\\nltk_data...\n",
      "[nltk_data]    |   Package panlex_swadesh is already up-to-date!\n",
      "[nltk_data]    | Downloading package mte_teip5 to\n",
      "[nltk_data]    |     C:\\Users\\ADMIN\\AppData\\Roaming\\nltk_data...\n",
      "[nltk_data]    |   Package mte_teip5 is already up-to-date!\n",
      "[nltk_data]    | Downloading package averaged_perceptron_tagger to\n",
      "[nltk_data]    |     C:\\Users\\ADMIN\\AppData\\Roaming\\nltk_data...\n"
     ]
    },
    {
     "name": "stderr",
     "output_type": "stream",
     "text": [
      "[nltk_data]    |   Package averaged_perceptron_tagger is already up-\n",
      "[nltk_data]    |       to-date!\n",
      "[nltk_data]    | Downloading package averaged_perceptron_tagger_ru to\n",
      "[nltk_data]    |     C:\\Users\\ADMIN\\AppData\\Roaming\\nltk_data...\n",
      "[nltk_data]    |   Package averaged_perceptron_tagger_ru is already\n",
      "[nltk_data]    |       up-to-date!\n",
      "[nltk_data]    | Downloading package perluniprops to\n",
      "[nltk_data]    |     C:\\Users\\ADMIN\\AppData\\Roaming\\nltk_data...\n",
      "[nltk_data]    |   Package perluniprops is already up-to-date!\n",
      "[nltk_data]    | Downloading package nonbreaking_prefixes to\n",
      "[nltk_data]    |     C:\\Users\\ADMIN\\AppData\\Roaming\\nltk_data...\n",
      "[nltk_data]    |   Package nonbreaking_prefixes is already up-to-date!\n",
      "[nltk_data]    | Downloading package vader_lexicon to\n",
      "[nltk_data]    |     C:\\Users\\ADMIN\\AppData\\Roaming\\nltk_data...\n",
      "[nltk_data]    |   Package vader_lexicon is already up-to-date!\n",
      "[nltk_data]    | Downloading package porter_test to\n",
      "[nltk_data]    |     C:\\Users\\ADMIN\\AppData\\Roaming\\nltk_data...\n",
      "[nltk_data]    |   Package porter_test is already up-to-date!\n",
      "[nltk_data]    | Downloading package wmt15_eval to\n",
      "[nltk_data]    |     C:\\Users\\ADMIN\\AppData\\Roaming\\nltk_data...\n",
      "[nltk_data]    |   Package wmt15_eval is already up-to-date!\n",
      "[nltk_data]    | Downloading package mwa_ppdb to\n",
      "[nltk_data]    |     C:\\Users\\ADMIN\\AppData\\Roaming\\nltk_data...\n",
      "[nltk_data]    |   Package mwa_ppdb is already up-to-date!\n",
      "[nltk_data]    | \n",
      "[nltk_data]  Done downloading collection all\n"
     ]
    },
    {
     "data": {
      "text/plain": [
       "True"
      ]
     },
     "execution_count": 2,
     "metadata": {},
     "output_type": "execute_result"
    }
   ],
   "source": [
    "import nltk\n",
    "nltk.download('all')"
   ]
  },
  {
   "cell_type": "code",
   "execution_count": 3,
   "metadata": {},
   "outputs": [],
   "source": [
    "from sklearn.metrics import precision_score\n",
    "from sklearn.metrics import recall_score\n",
    "from sklearn.metrics import f1_score"
   ]
  },
  {
   "cell_type": "code",
   "execution_count": 4,
   "metadata": {},
   "outputs": [],
   "source": [
    "np.random.seed(500)"
   ]
  },
  {
   "cell_type": "code",
   "execution_count": 5,
   "metadata": {},
   "outputs": [],
   "source": [
    "Corpus = pd.read_csv(r\"allnews8.csv\",encoding='latin-1',error_bad_lines=False)"
   ]
  },
  {
   "cell_type": "code",
   "execution_count": null,
   "metadata": {},
   "outputs": [],
   "source": []
  },
  {
   "cell_type": "code",
   "execution_count": 9,
   "metadata": {},
   "outputs": [],
   "source": [
    "# Step - a : Remove blank rows if any.\n",
    "Corpus['text'].dropna(inplace=True)\n",
    "# Step - b : Change all the text to lower case. This is required as python interprets 'dog' and 'DOG' differently\n",
    "Corpus['text'] = [entry.lower() for entry in Corpus['text']]\n",
    "# Step - c : Tokenization : In this each entry in the corpus will be broken into set of words\n",
    "Corpus['text']= [word_tokenize(entry) for entry in Corpus['text']]\n",
    "# Step - d : Remove Stop words, Non-Numeric and perfom Word Stemming/Lemmenting.\n",
    "# WordNetLemmatizer requires Pos tags to understand if the word is noun or verb or adjective etc. By default it is set to Noun\n",
    "tag_map = defaultdict(lambda : wn.NOUN)\n",
    "tag_map['J'] = wn.ADJ\n",
    "tag_map['V'] = wn.VERB\n",
    "tag_map['R'] = wn.ADV\n",
    "for index,entry in enumerate(Corpus['text']):\n",
    "    # Declaring Empty List to store the words that follow the rules for this step\n",
    "    Final_words = []\n",
    "    # Initializing WordNetLemmatizer()\n",
    "    word_Lemmatized = WordNetLemmatizer()\n",
    "    # pos_tag function below will provide the 'tag' i.e if the word is Noun(N) or Verb(V) or something else.\n",
    "    for word, tag in pos_tag(entry):\n",
    "        # Below condition is to check for Stop words and consider only alphabets\n",
    "        if word not in stopwords.words('english') and word.isalpha():\n",
    "            word_Final = word_Lemmatized.lemmatize(word,tag_map[tag[0]])\n",
    "            Final_words.append(word_Final)\n",
    "    # The final processed set of words for each iteration will be stored in 'text_final'\n",
    "    Corpus.loc[index,'text_final'] = str(Final_words)"
   ]
  },
  {
   "cell_type": "code",
   "execution_count": 10,
   "metadata": {},
   "outputs": [],
   "source": [
    "Train_X, Test_X, Train_Y, Test_Y = model_selection.train_test_split(Corpus['text_final'],Corpus['label'],test_size=0.3)"
   ]
  },
  {
   "cell_type": "code",
   "execution_count": 11,
   "metadata": {},
   "outputs": [],
   "source": [
    "Encoder = LabelEncoder()\n",
    "Train_Y = Encoder.fit_transform(Train_Y)\n",
    "Test_Y = Encoder.fit_transform(Test_Y)"
   ]
  },
  {
   "cell_type": "code",
   "execution_count": 12,
   "metadata": {},
   "outputs": [],
   "source": [
    "listofclasses=list(Encoder.classes_)\n",
    "listofclasses\n",
    "algorithmname=[]\n",
    "algoaccuracy=[]"
   ]
  },
  {
   "cell_type": "code",
   "execution_count": 13,
   "metadata": {},
   "outputs": [],
   "source": [
    "Tfidf_vect = TfidfVectorizer(max_features=5000)\n",
    "Tfidf_vect.fit(Corpus['text_final'])\n",
    "Train_X_Tfidf = Tfidf_vect.transform(Train_X)\n",
    "Test_X_Tfidf = Tfidf_vect.transform(Test_X)"
   ]
  },
  {
   "cell_type": "code",
   "execution_count": 16,
   "metadata": {},
   "outputs": [
    {
     "data": {
      "text/plain": [
       "<107x5000 sparse matrix of type '<class 'numpy.float64'>'\n",
       "\twith 17347 stored elements in Compressed Sparse Row format>"
      ]
     },
     "execution_count": 16,
     "metadata": {},
     "output_type": "execute_result"
    }
   ],
   "source": [
    "Train_X_Tfidf"
   ]
  },
  {
   "cell_type": "code",
   "execution_count": 24,
   "metadata": {},
   "outputs": [
    {
     "name": "stdout",
     "output_type": "stream",
     "text": [
      "p value is 0.7797081261051438\n"
     ]
    }
   ],
   "source": [
    "from sklearn.datasets import fetch_20newsgroups_vectorized\n",
    "from sklearn.feature_selection import chi2\n",
    "data = fetch_20newsgroups_vectorized()\n",
    "X, y = Train_X_Tfidf, Train_Y\n",
    "scores, pvalues = chi2(X, y)\n",
    "\n",
    "\n",
    "pvalues1=np.nan_to_num(pvalues)\n",
    "\n",
    "x2 = statistics.mean(pvalues1) \n",
    "  \n",
    "# Printing the mean \n",
    "print(\"p value is\", x2) "
   ]
  },
  {
   "cell_type": "code",
   "execution_count": 10,
   "metadata": {},
   "outputs": [
    {
     "name": "stdout",
     "output_type": "stream",
     "text": [
      "{'case': 607, 'surge': 3935, 'amanjeet': 161, 'singh': 3684, 'salyal': 3479, 'talk': 3977, 'dr': 1200, 'jagat': 2059, 'ram': 3215, 'director': 1130, 'post': 3009, 'graduate': 1673, 'institute': 1991, 'medical': 2458, 'education': 1249, 'research': 3351, 'pgimer': 2931, 'chandigarh': 651, 'state': 3831, 'preparedness': 3049, 'shortcoming': 3649, 'therein': 4038, 'region': 3286, 'claim': 723, 'premier': 3043, 'prepared': 3048, 'tackle': 3973, 'situation': 3696, 'caution': 617, 'neighbour': 2667, 'bit': 474, 'enough': 1301, 'test': 4021, 'facility': 1416, 'sample': 3481, 'people': 2902, 'day': 1000, 'average': 326, 'conduct': 825, 'daily': 984, 'right': 3398, 'reagent': 3251, 'mixture': 2533, 'use': 4231, 'chemical': 679, 'analysis': 182, 'procure': 3097, 'regular': 3292, 'basis': 396, 'national': 2639, 'virology': 4310, 'pune': 3156, 'indian': 1937, 'council': 917, 'number': 2726, 'spike': 3777, 'need': 2657, 'testing': 4023, 'load': 2303, 'share': 3622, 'capacity': 586, 'limited': 2281, 'start': 3827, 'punjab': 3161, 'haryana': 1744, 'himachal': 1782, 'pradesh': 3023, 'healthcare': 1756, 'similarly': 3678, 'government': 1662, 'college': 762, 'hospital': 1816, 'sector': 3553, 'push': 3169, 'early': 1231, 'aggressive': 110, 'approach': 232, 'towards': 4095, 'fear': 1444, 'community': 791, 'transmission': 4114, 'rise': 3407, 'reach': 3246, 'stage': 3810, 'feel': 1454, 'time': 4064, 'ripe': 3406, 'random': 3220, 'sampling': 3482, 'ask': 269, 'symptomatic': 3962, 'show': 3654, 'symptom': 3961, 'coronavirus': 904, 'infection': 1958, 'cough': 915, 'fever': 1461, 'breathlessness': 522, 'call': 571, 'helpline': 1770, 'provide': 3133, 'administration': 67, 'come': 768, 'directly': 1129, 'however': 1834, 'screening': 3542, 'clinic': 737, 'entrance': 1313, 'also': 155, 'person': 2917, 'return': 3386, 'abroad': 15, 'immediately': 1894, 'isolated': 2050, 'even': 1347, 'contact': 859, 'tracing': 4099, 'patient': 2879, 'high': 1776, 'risk': 3409, 'elderly': 1261, 'confine': 829, 'asymptomatic': 288, 'strict': 3875, 'home': 1806, 'quarantine': 3175, 'advise': 84, 'kinds': 2172, 'requirement': 3348, 'infrastructure': 1966, 'front': 1563, 'sufficient': 3902, 'available': 323, 'create': 938, 'per': 2904, 'extension': 1398, 'block': 485, 'nehru': 2665, 'convert': 879, 'isolation': 2051, 'arises': 248, 'quite': 3185, 'possibility': 3006, 'bed': 415, 'ventilator': 4272, 'present': 3056, 'ward': 4344, 'building': 541, 'four': 1549, 'functional': 1574, 'child': 689, 'five': 1497, 'secure': 3554, 'advanced': 76, 'paediatric': 2816, 'centre': 633, 'demand': 1045, 'put': 3172, 'forth': 1543, 'central': 632, 'preparation': 3046, 'workforce': 4415, 'hundred': 1851, 'doctor': 1182, 'internal': 2012, 'medicine': 2460, 'department': 1052, 'force': 1529, 'others': 2786, 'emergency': 1275, 'alert': 138, 'far': 1432, 'nurse': 2728, 'paramedic': 2841, 'allied': 148, 'staff': 3807, 'concern': 821, 'total': 4090, 'assign': 279, 'duty': 1224, 'work': 4413, 'shift': 3636, 'besides': 434, 'faculty': 1420, 'member': 2468, 'different': 1113, 'form': 1539, 'second': 3550, 'line': 2282, 'press': 3061, 'service': 3585, 'arise': 247, 'suggestion': 3907, 'authority': 315, 'contain': 861, 'locally': 2307, 'let': 2260, 'travel': 4119, 'appeal': 219, 'jammu': 2072, 'kashmir': 2138, 'refer': 3276, 'may': 2440, 'spread': 3789, 'protective': 3125, 'gear': 1610, 'experience': 1384, 'minor': 2516, 'shortage': 3648, 'mask': 2419, 'personal': 2918, 'protection': 3124, 'equipment': 1326, 'ppe': 3016, 'order': 2774, 'place': 2956, 'expect': 1381, 'monday': 2557, 'recently': 3262, 'one': 2754, 'lakh': 2209, 'glove': 1646, 'sonepat': 3744, 'woman': 4410, 'united': 4191, 'kingdom': 2174, 'three': 4049, 'ago': 114, 'positive': 3003, 'saturday': 3510, 'say': 3518, 'principal': 3078, 'officer': 2746, 'adarsh': 54, 'sharma': 3624, 'resident': 3358, 'msc': 2583, 'physic': 2941, 'honour': 1810, 'cambridge': 574, 'university': 4194, 'england': 1297, 'march': 2411, 'initially': 1969, 'go': 1650, 'self': 3562, 'house': 1827, 'admit': 70, 'bhagat': 440, 'phool': 2937, 'khanpur': 2152, 'kalan': 2117, 'friday': 1559, 'blood': 486, 'throat': 4051, 'swab': 3954, 'take': 3975, 'report': 3337, 'niv': 2698, 'add': 55, 'keep': 2141, 'bps': 511, 'stable': 3804, 'family': 1429, 'maintain': 2367, 'distance': 1163, 'stay': 3836, 'pandemic': 2831, 'disease': 1148, 'seal': 3546, 'lane': 2217, 'near': 2651, 'notice': 2720, 'regard': 3284, 'outside': 2796, 'goa': 1651, 'police': 2984, 'arrest': 258, 'wish': 4401, 'deadly': 1007, 'worker': 4414, 'security': 3555, 'personnel': 2921, 'allegedly': 145, 'harass': 1735, 'tablighi': 3970, 'jamaat': 2068, 'attendee': 300, 'man': 2384, 'facebook': 1413, 'currently': 972, 'contract': 870, 'accused': 34, 'identify': 1871, 'mohsin': 2554, 'shaikh': 3609, 'since': 3681, 'delete': 1038, 'organiser': 2779, 'wrong': 4434, 'forgive': 1538, 'book': 494, 'section': 3552, 'infectious': 1959, 'disobedience': 1153, 'penal': 2899, 'code': 753, 'attend': 297, 'meet': 2466, 'delhi': 1039, 'nine': 2692, 'believe': 426, 'participate': 2855, 'convention': 877, 'contribute': 873, 'country': 924, 'enter': 1307, 'result': 3379, 'awaited': 331, 'six': 3697, 'confirm': 830, 'yet': 4449, 'another': 198, 'thursday': 4055, 'night': 2689, 'pass': 2864, 'away': 335, 'find': 1478, 'negative': 2661, 'nizamuddin': 2700, 'otherwise': 2787, 'elite': 1272, 'buy': 560, 'organic': 2776, 'produce': 3099, 'masterfully': 2425, 'refurbish': 3282, 'sunder': 3918, 'nursery': 2729, 'distinct': 1166, 'class': 726, 'separate': 3574, 'east': 1238, 'neighbourhood': 2668, 'ordinary': 2775, 'dweller': 1225, 'west': 4369, 'image': 1887, 'straight': 3859, 'dystopia': 1229, 'ground': 1693, 'past': 2867, 'two': 4150, 'make': 2372, 'sense': 3569, 'orthodox': 2784, 'missionary': 2528, 'islamic': 2046, 'movement': 2582, 'major': 2369, 'virus': 4312, 'vector': 4263, 'india': 1934, 'fact': 1417, 'reveal': 3389, 'gross': 1692, 'criminal': 948, 'negligence': 2662, 'highlight': 1777, 'series': 3578, 'grave': 1681, 'lapse': 2222, 'sloppiness': 3708, 'part': 2851, 'many': 2403, 'key': 2148, 'player': 2964, 'system': 3965, 'watch': 4350, 'world': 4418, 'health': 1755, 'organization': 2780, 'wade': 4327, 'congested': 834, 'alley': 147, 'mosque': 2572, 'area': 243, 'patiently': 2880, 'evacuate': 1343, 'shudder': 3658, 'callousness': 572, 'carelessness': 599, 'bring': 529, 'point': 2982, 'could': 916, 'easily': 1236, 'prevent': 3065, 'understand': 4173, 'contagion': 860, 'congregation': 836, 'collect': 759, 'markaz': 2413, 'first': 1491, 'happen': 1733, 'malaysia': 2378, 'february': 1448, 'launch': 2232, 'mewat': 2485, 'following': 1523, 'clergy': 732, 'muslim': 2603, 'islam': 2044, 'practise': 3022, 'prophet': 3119, 'across': 42, 'southeast': 3753, 'asia': 267, 'despite': 1076, 'representative': 3343, 'indonesia': 1947, 'able': 13, 'way': 4354, 'annual': 196, 'among': 176, 'multiple': 2591, 'leader': 2243, 'speak': 3762, 'defend': 1031, 'argue': 246, 'moment': 2556, 'prime': 3076, 'minister': 2514, 'narendra': 2631, 'modi': 2547, 'curfew': 970, 'chief': 688, 'arvind': 261, 'kejriwal': 2143, 'issue': 2053, 'gathering': 1604, 'allow': 150, 'local': 2305, 'logistical': 2316, 'help': 1767, 'get': 1629, 'foreigner': 1534, 'trail': 4108, 'letter': 2262, 'release': 3311, 'indeed': 1932, 'document': 1183, 'attempt': 296, 'explanation': 1389, 'stipulate': 3850, 'gather': 1603, 'flout': 1509, 'absence': 17, 'basic': 395, 'civic': 720, 'responsibility': 3370, 'threat': 4048, 'know': 2183, 'globally': 1644, 'saudi': 3511, 'arabia': 240, 'suspend': 3947, 'congregational': 837, 'prayer': 3031, 'except': 1366, 'masjid': 2418, 'mecca': 2454, 'medina': 2461, 'prove': 3132, 'spreader': 3790, 'official': 2747, 'proceed': 3094, 'thousand': 4047, 'pack': 2811, 'together': 4075, 'small': 3715, 'terrible': 4017, 'idea': 1869, 'wake': 4333, 'late': 2226, 'admits': 71, 'advocate': 87, 'mujib': 2587, 'rehman': 3297, 'lawyer': 2237, 'everyone': 1355, 'regret': 3291, 'colossal': 764, 'mistake': 2529, 'give': 1639, 'maulana': 2435, 'bizarre': 476, 'sermon': 3582, 'suggest': 3906, 'die': 1111, 'best': 435, 'hear': 1758, 'background': 350, 'role': 3420, 'bewilder': 438, 'station': 3833, 'virtually': 4311, 'wall': 4336, 'register': 3287, 'step': 3843, 'earlier': 1230, 'video': 4288, 'warning': 4347, 'answer': 199, 'try': 4138, 'like': 2277, 'without': 4404, 'intelligence': 1999, 'bureau': 550, 'ministry': 2515, 'external': 1402, 'affair': 89, 'loop': 2327, 'clear': 730, 'scale': 3520, 'visa': 4313, 'general': 1615, 'religious': 3317, 'ban': 374, 'religion': 3316, 'whataboutery': 4372, 'insult': 1997, 'injury': 1974, 'equally': 1323, 'indisputable': 1944, 'smear': 3716, 'large': 2223, 'unacceptable': 4161, 'term': 4014, 'mainstreamed': 2366, 'medium': 2462, 'network': 2675, 'trollspeak': 4131, 'respectable': 3365, 'language': 2220, 'leadership': 2244, 'must': 2604, 'hold': 1801, 'accountable': 31, 'urgently': 4225, 'encourage': 1285, 'forward': 1547, 'disclose': 1143, 'identity': 1872, 'agency': 107, 'stigma': 3846, 'consequence': 843, 'apportion': 227, 'blame': 482, 'nation': 2638, 'lock': 2310, 'banal': 375, 'toxic': 4097, 'debate': 1011, 'future': 1582, 'entire': 1311, 'stake': 3816, 'suresh': 3932, 'raina': 3205, 'welcome': 4366, 'new': 2677, 'cricketer': 946, 'become': 414, 'father': 1439, 'wife': 4392, 'priyanka': 3086, 'birth': 471, 'son': 3742, 'rio': 3402, 'current': 971, 'crisis': 949, 'worry': 4423, 'everything': 1356, 'around': 254, 'due': 1219, 'date': 993, 'closer': 742, 'though': 4046, 'extra': 1404, 'cautious': 618, 'thing': 4040, 'bad': 353, 'every': 1352, 'amazing': 164, 'job': 2090, 'care': 596, 'query': 3178, 'panic': 2834, 'cool': 886, 'commendable': 774, 'view': 4290, 'instagram': 1984, 'beginning': 420, 'wonder': 4411, 'hope': 1812, 'good': 1656, 'proud': 3131, 'little': 2298, 'brother': 532, 'flow': 1510, 'beyond': 439, 'boundary': 507, 'peace': 2891, 'renewal': 3328, 'prosperity': 3122, 'life': 2272, 'mar': 2406, 'pdt': 2890, 'daughter': 996, 'grace': 1670, 'bear': 407, 'holland': 1805, 'mostly': 2573, 'live': 2299, 'bank': 380, 'suppose': 3929, 'deliver': 1042, 'baby': 345, 'plan': 2958, 'change': 655, 'worried': 4422, 'manage': 2385, 'tell': 4006, 'please': 2966, 'calm': 573, 'cooperate': 889, 'might': 2496, 'possibly': 3008, 'tip': 4069, 'additionally': 59, 'urges': 4226, 'husband': 1857, 'eat': 1240, 'food': 1524, 'etc': 1338, 'condition': 824, 'back': 347, 'legs': 2255, 'foot': 1525, 'massage': 2422, 'masseuse': 2423, 'cricket': 945, 'team': 3991, 'game': 1587, 'win': 4395, 'battle': 404, 'corona': 903, 'fellow': 1456, 'countryman': 925, 'bestrong': 436, 'beunite': 437, 'bebrave': 413, 'fightcorona': 1466, 'indiafightscorona': 1936, 'ensure': 1305, 'healthy': 1757, 'consume': 857, 'think': 4041, 'safety': 3465, 'run': 3441, 'faster': 1436, 'patience': 2877, 'level': 2264, 'compassionate': 795, 'introspect': 2021, 'strong': 3881, 'guard': 1697, 'househelps': 1828, 'sanitisers': 3493, 'sure': 3931, 'stray': 3867, 'dog': 1184, 'society': 3726, 'hungry': 1853, 'lockdown': 2311, 'afford': 95, 'survive': 3943, 'wager': 4329, 'animal': 191, 'social': 3725, 'require': 3346, 'hour': 1826, 'follow': 1521, 'htshowbiz': 1839, 'amid': 172, 'ongoing': 2755, 'ncw': 2650, 'rekha': 3302, 'touch': 4091, 'commission': 780, 'old': 2752, 'parent': 2845, 'alone': 152, 'email': 1273, 'anywhere': 208, 'personally': 2920, 'chairperson': 644, 'tweet': 4145, 'several': 3596, 'respond': 3368, 'seek': 3557, 'ailing': 125, 'billion': 460, 'instruct': 1994, 'outbreak': 2788, 'infect': 1956, 'less': 2259, 'million': 2507, 'kill': 2167, 'rip': 3405, 'rampage': 3218, 'deep': 1026, 'economic': 1243, 'psychological': 3144, 'impact': 1899, 'cross': 954, 'immediate': 1893, 'fallout': 1427, 'supply': 3926, 'crunch': 962, 'consumer': 858, 'item': 2056, 'business': 555, 'lean': 2246, 'inventory': 2024, 'buying': 562, 'transportation': 4117, 'curb': 969, 'count': 921, 'borrow': 503, 'crore': 953, 'compensate': 796, 'revenue': 3390, 'shortfall': 3650, 'gst': 1696, 'regime': 3285, 'public': 3148, 'firm': 1488, 'rescue': 3350, 'acute': 50, 'liquidity': 2289, 'cause': 616, 'aware': 333, 'development': 1089, 'read': 3248, 'stagger': 3811, 'exit': 1379, 'cms': 750, 'underline': 4171, 'goal': 1652, 'minimum': 2513, 'loss': 2331, 'detail': 1079, 'next': 2683, 'strategy': 3866, 'deal': 1008, 'indicate': 1940, 'end': 1286, 'staggered': 3812, 'citizenry': 716, 'peek': 2896, 'inside': 1979, 'main': 2364, 'avenue': 325, 'tony': 4085, 'silent': 3674, 'traffic': 4106, 'occasional': 2738, 'car': 593, 'probably': 3089, 'elegant': 1268, 'apartment': 211, 'tomb': 4081, 'abdul': 11, 'rahim': 3197, 'remain': 3319, 'shroud': 3657, 'darkness': 990, 'company': 793, 'unit': 4190, 'coverall': 933, 'something': 3739, 'till': 4063, 'last': 2225, 'month': 2562, 'import': 1905, 'today': 4074, 'question': 3179, 'design': 1069, 'alarmist': 137, 'driven': 1206, 'upward': 4218, 'hq': 1835, 'track': 4100, 'control': 875, 'room': 3423, 'forefront': 1532, 'effort': 1255, 'detect': 1082, 'least': 2248, 'apart': 210, 'uttar': 4237, 'maharashtra': 2353, 'tamil': 3982, 'nadu': 2613, 'kerala': 2145, 'set': 3588, 'act': 43, 'nodal': 2704, 'process': 3096, 'data': 991, 'district': 1171, 'coordinate': 892, 'surveillance': 3941, 'look': 2326, 'function': 1573, 'update': 4209, 'hoarding': 1799, 'transport': 4116, 'snag': 3719, 'choke': 701, 'essential': 1332, 'cascade': 606, 'buyer': 561, 'rich': 3395, 'poor': 2994, 'scour': 3539, 'market': 2414, 'everyday': 1354, 'amidst': 173, 'sweeping': 3957, 'stop': 3855, 'antibody': 201, 'hot': 1821, 'spot': 3785, 'fast': 1435, 'diagnosis': 1104, 'cheap': 674, 'check': 676, 'cluster': 745, 'attack': 294, 'city': 718, 'indore': 1949, 'pelt': 2898, 'stone': 3854, 'madhya': 2346, 'seven': 3594, 'tatt': 3987, 'patti': 2884, 'bakhal': 364, 'wednesday': 4362, 'incident': 1919, 'cd': 621, 'gen': 1612, 'rawat': 3240, 'delivers': 1043, 'blunt': 487, 'message': 2478, 'defence': 1030, 'bipin': 467, 'break': 516, 'chain': 642, 'april': 238, 'distancing': 1164, 'prepare': 3047, 'weather': 4357, 'dharavi': 1098, 'cramp': 935, 'quarter': 3176, 'squalor': 3797, 'fight': 1465, 'difficult': 1114, 'overwork': 2805, 'daunting': 999, 'challenge': 645, 'hand': 1725, 'garment': 1598, 'shop': 3645, 'owner': 2808, 'slum': 3710, 'volunteer': 4323, 'arrive': 260, 'awareness': 334, 'rehabilitation': 3296, 'complex': 807, 'yediyurappa': 4444, 'karnataka': 2134, 'credit': 940, 'proactive': 3088, 'relatively': 3307, 'few': 1462, 'death': 1010, 'fatality': 1437, 'sunetra': 3920, 'choudhury': 704, 'july': 2105, 'roger': 3419, 'federer': 1451, 'fortnight': 1545, 'deeply': 1028, 'apologetic': 215, 'miss': 2526, 'sport': 3783, 'millionaire': 2508, 'smack': 3714, 'ball': 371, 'racquet': 3193, 'bat': 399, 'always': 160, 'great': 1683, 'drudgery': 1211, 'inch': 1917, 'figure': 1468, 'union': 4189, 'morning': 2568, 'stand': 3820, 'middle': 2494, 'long': 2324, 'nationwide': 2640, 'shutdown': 3660, 'assume': 286, 'proportion': 3120, 'italy': 2055, 'include': 1923, 'andhra': 187, 'significant': 3668, 'tested': 4022, 'tally': 3979, 'succumb': 3898, 'increase': 1926, 'toll': 4080, 'guide': 1702, 'safe': 3463, 'seasonal': 3549, 'flu': 1512, 'common': 786, 'cold': 755, 'capital': 588, 'shoot': 3644, 'coming': 772, 'emerge': 1274, 'big': 456, 'hotspot': 1825, 'nearly': 2653, 'primary': 3075, 'associate': 283, 'group': 1694, 'majority': 2370, 'link': 2284, 'assert': 277, 'evidence': 1358, 'exist': 1378, 'potential': 3012, 'urge': 4222, 'light': 2276, 'lamp': 2212, 'torch': 4089, 'mobile': 2541, 'flashlight': 1502, 'sunday': 3917, 'interact': 2005, 'conference': 826, 'focus': 1518, 'containment': 862, 'measure': 2452, 'trace': 4098, 'imperative': 1900, 'war': 4343, 'remove': 3325, 'partially': 2853, 'aviation': 327, 'hardeep': 1738, 'puri': 3164, 'airline': 129, 'free': 1554, 'ticket': 4058, 'flight': 1504, 'resumption': 3381, 'international': 2013, 'consider': 845, 'depend': 1053, 'year': 4443, 'precise': 3035, 'likely': 2278, 'exact': 1361, 'severe': 3597, 'casualty': 610, 'humanity': 1848, 'beat': 408, 'recover': 3268, 'phd': 2933, 'scholar': 3530, 'jamia': 2071, 'millia': 2506, 'islamia': 2045, 'connection': 840, 'rioting': 3404, 'conspiracy': 847, 'riot': 3403, 'knowledge': 2184, 'joint': 2094, 'commissioner': 781, 'special': 3764, 'cell': 625, 'neeraj': 2659, 'thakur': 4027, 'meeran': 2464, 'haider': 1721, 'allege': 143, 'instigate': 1989, 'fund': 1576, 'violence': 4305, 'agitation': 113, 'citizenship': 717, 'amendment': 169, 'caa': 566, 'shaheen': 3606, 'probe': 3090, 'cite': 714, 'request': 3345, 'injured': 1973, 'clash': 725, 'supporter': 3928, 'opponent': 2767, 'acquire': 40, 'communal': 787, 'colour': 765, 'bagh': 359, 'venue': 4274, 'protest': 3127, 'december': 1017, 'senior': 3568, 'instance': 1987, 'president': 3060, 'rashtriya': 3231, 'janata': 2074, 'dal': 985, 'rjd': 3412, 'youth': 4454, 'wing': 4398, 'chhatra': 684, 'interrogate': 2015, 'lodhi': 2315, 'colony': 763, 'office': 2745, 'nagar': 2614, 'serve': 3584, 'join': 2093, 'crime': 947, 'branch': 512, 'charge': 661, 'coordination': 893, 'committee': 784, 'jcc': 2081, 'interrogation': 2016, 'men': 2472, 'uniform': 4187, 'residence': 3357, 'enquire': 1302, 'custody': 974, 'baseless': 393, 'inform': 1961, 'decline': 1021, 'comment': 775, 'jnu': 2089, 'statement': 3832, 'young': 4452, 'investigation': 2026, 'valid': 4242, 'reason': 3257, 'sometimes': 3741, 'silence': 3673, 'footstep': 1527, 'walk': 4335, 'bundle': 547, 'arm': 249, 'head': 1750, 'jamatis': 2070, 'railway': 3204, 'headquarters': 1754, 'locate': 2308, 'mathura': 2430, 'road': 3413, 'upscale': 4215, 'basti': 397, 'click': 733, 'complete': 804, 'coverage': 932, 'village': 4298, 'name': 2623, 'shrine': 3656, 'sufi': 3903, 'saint': 3471, 'hazrat': 1749, 'auliya': 308, 'lie': 2270, 'heart': 1760, 'grey': 1686, 'build': 540, 'close': 740, 'famous': 1430, 'restaurant': 3374, 'literary': 2293, 'landmark': 2216, 'poet': 2980, 'mirza': 2520, 'accuse': 33, 'misbehave': 2522, 'ghaziabad': 1632, 'facade': 1411, 'stud': 3884, 'window': 4397, 'strangely': 3865, 'similar': 3677, 'traditionally': 4105, 'see': 3556, 'bylanes': 563, 'distant': 1165, 'venice': 4268, 'ravage': 3236, 'activist': 46, 'faisal': 1424, 'khan': 2151, 'convener': 876, 'khudai': 2162, 'khidtmatgar': 2158, 'welfare': 4367, 'organisation': 2777, 'spend': 3774, 'couple': 927, 'ramzan': 3219, 'phone': 2936, 'south': 3752, 'ghaffar': 1630, 'manzil': 2404, 'interior': 2011, 'hall': 1723, 'litter': 2297, 'chappals': 659, 'spill': 3778, 'street': 3870, 'miracle': 2519, 'jamati': 2069, 'sandal': 3484, 'floor': 1508, 'layout': 2241, 'spacious': 3759, 'temporary': 4011, 'dwelling': 1226, 'learn': 2247, 'counsel': 918, 'week': 4364, 'weekend': 4365, 'would': 4429, 'settle': 3590, 'backpack': 351, 'bedding': 416, 'sleep': 3706, 'perform': 2907, 'listen': 2291, 'maulanas': 2436, 'eating': 1241, 'arrangement': 257, 'langars': 2219, 'sikh': 3670, 'simple': 3679, 'meal': 2449, 'chawal': 672, 'communally': 788, 'basement': 394, 'mill': 2505, 'attract': 302, 'visitor': 4317, 'uk': 4157, 'germany': 1627, 'netherlands': 2674, 'nigeria': 2688, 'sudan': 3899, 'africa': 101, 'mere': 2475, 'corner': 901, 'overhear': 2800, 'conversation': 878, 'english': 1298, 'chinese': 696, 'french': 1556, 'arabic': 241, 'popular': 2995, 'telephone': 4004, 'booth': 499, 'advertise': 80, 'rate': 3233, 'yemen': 4446, 'morocco': 2569, 'almost': 151, 'evening': 1348, 'reporter': 3340, 'huddle': 1843, 'park': 2846, 'boy': 509, 'exercise': 1376, 'fitness': 1496, 'instal': 1985, 'loose': 2328, 'shalwar': 3613, 'kameez': 2122, 'shyly': 3662, 'chest': 681, 'machine': 2340, 'sit': 3692, 'crowd': 955, 'trend': 4124, 'continue': 869, 'opportune': 2768, 'york': 4451, 'clearly': 731, 'list': 2290, 'wishlist': 4402, 'critical': 950, 'mayor': 2442, 'bill': 459, 'de': 1004, 'blaiso': 481, 'surgical': 3938, 'gown': 1668, 'incremental': 1928, 'additional': 58, 'administrator': 69, 'professional': 3103, 'shape': 3620, 'response': 3369, 'well': 4368, 'study': 3886, 'importantly': 1907, 'problem': 3092, 'global': 1643, 'manufacturer': 2402, 'ppes': 3017, 'apace': 209, 'hurdle': 1854, 'pose': 3001, 'icus': 1868, 'assessment': 278, 'base': 392, 'conservative': 844, 'estimate': 1337, 'low': 2334, 'kind': 2170, 'ready': 3250, 'heave': 1761, 'sigh': 3665, 'relief': 3314, 'celebrate': 624, 'mumbai': 2595, 'prospect': 3121, 'rag': 3196, 'shanty': 3619, 'town': 4096, 'population': 2998, 'density': 1050, 'square': 3798, 'km': 2178, 'stuff': 3887, 'nightmare': 2690, 'already': 154, 'treat': 4121, 'infected': 1957, 'survey': 3942, 'within': 4403, 'radius': 3195, 'epicentre': 1319, 'undertake': 4175, 'unemployment': 4181, 'soar': 3724, 'statistic': 3834, 'extent': 1401, 'havoc': 1748, 'wreak': 4431, 'lay': 2240, 'cope': 895, 'product': 3100, 'idle': 1873, 'incur': 1931, 'cost': 912, 'announce': 195, 'fiscal': 1492, 'package': 2812, 'amount': 177, 'roughly': 3429, 'gdp': 1609, 'france': 1553, 'pay': 2886, 'retrench': 3385, 'recovery': 3269, 'slow': 3709, 'painful': 2823, 'jump': 2106, 'drive': 1205, 'unprecedented': 4204, 'indoors': 1948, 'overall': 2797, 'confirmed': 831, 'record': 3266, 'largely': 2224, 'origin': 2781, 'isolate': 2049, 'event': 1349, 'turn': 4144, 'hotbed': 1822, 'along': 153, 'territory': 4019, 'massive': 2424, 'punya': 3162, 'salila': 3476, 'srivastava': 3803, 'secretary': 3551, 'briefing': 525, 'widen': 4390, 'hit': 1794, 'hospitalise': 1817, 'decide': 1018, 'begin': 419, 'action': 44, 'mohammad': 2549, 'saad': 3447, 'punish': 3158, 'offence': 2742, 'lead': 2242, 'worsening': 4425, 'epidemic': 1320, 'amit': 174, 'shah': 3605, 'blacklist': 480, 'involvement': 2032, 'activity': 47, 'tourist': 4094, 'cancel': 580, 'direct': 1127, 'necessary': 2654, 'legal': 2251, 'overseas': 2803, 'violate': 4302, 'provision': 3136, 'disaster': 1135, 'management': 2386, 'mail': 2363, 'formal': 1540, 'relate': 3304, 'violation': 4303, 'prohibit': 3109, 'assembly': 276, 'fuzail': 1583, 'ayyubi': 339, 'reply': 3336, 'dozen': 1199, 'abscond': 16, 'audio': 304, 'follower': 1522, 'comply': 811, 'direction': 1128, 'lunch': 2338, 'dinner': 1123, 'programme': 3107, 'grow': 1695, 'feed': 1453, 'tomorrow': 4082, 'videoconference': 4289, 'hindustan': 1789, 'visit': 4315, 'shelter': 3630, 'school': 3531, 'accord': 28, 'sujit': 3913, 'kumar': 2197, 'caretaker': 600, 'urban': 4221, 'improvement': 1912, 'board': 490, 'dusib': 1223, 'sarai': 3502, 'kale': 2118, 'twice': 4147, 'nearby': 2652, 'taker': 3976, 'fall': 1426, 'lot': 2332, 'kalindi': 2120, 'kunj': 2198, 'double': 1193, 'cook': 884, 'afzal': 104, 'ghazipur': 1633, 'patparganj': 2883, 'mayur': 2443, 'vihar': 4291, 'phase': 2932, 'excess': 1368, 'warm': 4345, 'civil': 721, 'distribute': 1169, 'left': 2250, 'rajma': 3213, 'rice': 3394, 'leave': 2249, 'ravi': 3237, 'chandran': 654, 'oversee': 2804, 'hunger': 1852, 'vasant': 4258, 'quiet': 3184, 'residential': 3359, 'gate': 1601, 'although': 158, 'access': 23, 'camp': 576, 'complaint': 802, 'norm': 2711, 'hang': 1730, 'kusum': 2200, 'pahari': 2820, 'bhawar': 449, 'cater': 614, 'janki': 2075, 'devi': 1091, 'skv': 3701, 'longer': 2325, 'gated': 1602, 'transfer': 4112, 'chilla': 692, 'aiims': 124, 'yamna': 4438, 'pushta': 3171, 'latter': 2229, 'vinay': 4301, 'stephen': 3844, 'functionary': 1575, 'sadik': 3458, 'masih': 2417, 'servant': 3583, 'smmsss': 3717, 'open': 2761, 'migrant': 2497, 'much': 2585, 'pressure': 3062, 'hop': 1811, 'payment': 2887, 'soon': 3746, 'distribution': 1170, 'rajendra': 3210, 'ramesh': 3217, 'yadav': 4437, 'mind': 2509, 'labourer': 2204, 'nothing': 2719, 'bowl': 508, 'khichdi': 2157, 'quantity': 3174, 'pm': 2973, 'staying': 3838, 'policeman': 2985, 'pick': 2947, 'rented': 3330, 'accommodation': 27, 'paharganj': 2819, 'anand': 183, 'isbt': 2040, 'fail': 1421, 'catch': 612, 'bus': 554, 'eight': 1257, 'want': 4342, 'fee': 1452, 'stitch': 3852, 'bag': 358, 'workshop': 4417, 'living': 2302, 'gauri': 1605, 'grapple': 1678, 'squeeze': 3799, 'maid': 2362, 'housework': 1830, 'unable': 4160, 'separately': 3575, 'face': 1412, 'juggle': 2103, 'clean': 728, 'laundry': 2234, 'grocery': 1691, 'energetic': 1290, 'whose': 4387, 'shut': 3659, 'brief': 524, 'side': 3664, 'increasingly': 1927, 'mahesh': 2358, 'vyas': 4325, 'ceo': 636, 'monitor': 2559, 'economy': 1244, 'researcher': 3352, 'northwestern': 2717, 'mannheim': 2395, 'california': 570, 'san': 3483, 'diego': 1112, 'disproportionate': 1158, 'burden': 549, 'american': 171, 'finding': 1479, 'applicable': 222, 'primarily': 3074, 'gap': 1595, 'unpaid': 4202, 'wide': 4389, 'rely': 3318, 'army': 252, 'labour': 2203, 'informal': 1962, 'nanny': 2626, 'cleaner': 729, 'sign': 3666, 'abate': 8, 'lose': 2330, 'grim': 1690, 'news': 2680, 'female': 1458, 'participation': 2856, 'drop': 1210, 'paid': 2821, 'cultural': 968, 'childcare': 690, 'migration': 2499, 'racism': 3191, 'gender': 1613, 'angle': 188, 'mute': 2607, 'domestic': 1186, 'bystander': 565, 'sohini': 3729, 'bhattacharya': 447, 'breakthrough': 518, 'certainly': 639, 'fraction': 1552, 'behavioural': 423, 'enable': 1284, 'silver': 3675, 'lining': 2283, 'shock': 3643, 'disruption': 1162, 'realise': 3253, 'beneficial': 429, 'beneficiary': 430, 'actor': 48, 'hrithik': 1837, 'roshan': 3425, 'account': 30, 'ordeal': 2773, 'bust': 557, 'myth': 2611, 'rumour': 3440, 'surround': 3940, 'illness': 1886, 'diagnose': 1103, 'write': 4433, 'provider': 3134, 'suspect': 3945, 'suspected': 3946, 'hrishi': 1836, 'giridhar': 1637, 'contracting': 871, 'kasturba': 2139, 'pride': 3071, 'ihrithik': 1879, 'full': 1569, 'aim': 127, 'receive': 3260, 'student': 3885, 'london': 2323, 'fly': 1515, 'land': 2213, 'whatsoever': 4375, 'fatigue': 1440, 'lethargy': 2261, 'mild': 2500, 'max': 2438, 'respiratory': 3367, 'sore': 3748, 'irritable': 2039, 'sneeze': 3722, 'vomit': 4324, 'generally': 1616, 'persistent': 2915, 'dizziness': 1179, 'faint': 1423, 'fell': 1455, 'teeth': 4000, 'sustain': 3951, 'chin': 694, 'jaw': 2079, 'seem': 3558, 'signal': 3667, 'physical': 2942, 'priority': 3081, 'covid': 934, 'approximately': 236, 'friendly': 1561, 'helpful': 1768, 'breakfast': 517, 'usually': 4235, 'roti': 3427, 'dahis': 983, 'sabji': 3452, 'water': 4352, 'tablet': 3968, 'multivitamin': 2593, 'anyone': 206, 'unwell': 4207, 'syrup': 3964, 'wait': 4330, 'sort': 3749, 'bp': 510, 'ray': 3241, 'bathroom': 401, 'sanitiser': 3492, 'bottle': 506, 'single': 3685, 'someone': 3737, 'bedsheets': 417, 'implore': 1904, 'trust': 4136, 'immense': 1895, 'gratitude': 1680, 'round': 3430, 'mental': 2473, 'okay': 2751, 'anything': 207, 'bother': 504, 'nice': 2686, 'reassuring': 3258, 'extremely': 1408, 'grateful': 1679, 'comfortable': 771, 'easy': 1239, 'criticise': 951, 'actually': 49, 'resource': 3364, 'unnecessarily': 4201, 'quickly': 3183, 'discharge': 1139, 'govt': 1666, 'persistently': 2916, 'thankfully': 4030, 'play': 2963, 'pic': 2946, 'sussanne': 3950, 'move': 2581, 'piano': 2945, 'aid': 123, 'entrepreneur': 1314, 'waste': 4349, 'minute': 2518, 'lend': 2256, 'rest': 3372, 'own': 2807, 'fusion': 1581, 'gym': 1716, 'hard': 1737, 'devastate': 1085, 'enthusiast': 1310, 'mad': 2342, 'automobile': 318, 'journey': 2099, 'lad': 2207, 'patna': 2882, 'bihar': 457, 'inspire': 1983, 'fuel': 1567, 'perseverance': 2914, 'achieve': 35, 'gain': 1585, 'popularity': 2996, 'bud': 535, 'interested': 2008, 'childhood': 691, 'fan': 1431, 'outer': 2790, 'beauty': 412, 'wholesome': 4386, 'concept': 820, 'fit': 1495, 'lifestyle': 2274, 'addition': 57, 'craze': 936, 'extend': 1396, 'proof': 3117, 'undying': 4178, 'love': 2333, 'crazy': 937, 'important': 1906, 'influencers': 1960, 'realize': 3255, 'shoulder': 3653, 'choice': 700, 'body': 491, 'mindset': 2510, 'motive': 2576, 'trigger': 4128, 'venture': 4273, 'support': 3927, 'balanced': 367, 'wise': 4400, 'word': 4412, 'disclaimer': 1142, 'ht': 1838, 'journalist': 2098, 'involve': 2031, 'creation': 939, 'content': 864, 'brihanmumbai': 527, 'municipal': 2597, 'corporation': 907, 'bmc': 489, 'third': 4043, 'densely': 1049, 'populated': 2997, 'ascertain': 263, 'history': 1793, 'surgeon': 3936, 'flat': 1503, 'nursing': 2730, 'santisation': 3500, 'sweeper': 3956, 'baliga': 369, 'foreign': 1533, 'sion': 3686, 'pain': 2822, 'worli': 4420, 'private': 3085, 'laboratory': 2202, 'suburb': 3895, 'citizen': 715, 'individually': 1946, 'kiran': 2175, 'dighavkar': 1116, 'assistant': 282, 'human': 1846, 'maybe': 2441, 'investigate': 2025, 'happily': 1734, 'wander': 4340, 'peacock': 2892, 'roam': 3415, 'dance': 987, 'empty': 1282, 'gorgeous': 1659, 'bird': 470, 'frolic': 1562, 'deserted': 1065, 'top': 4087, 'simply': 3680, 'parsi': 2850, 'hughes': 1845, 'twitter': 4149, 'user': 4233, 'colourful': 766, 'display': 1157, 'beautiful': 410, 'plumage': 2970, 'gracefully': 1671, 'vibhinna': 4281, 'vibhinnaideas': 4282, 'capture': 592, 'wandering': 4341, 'explore': 1390, 'narendramodi': 2632, 'ji': 2085, 'pmoindia': 2976, 'indiafightscornona': 1935, 'lockdownindia': 2312, 'nature': 2643, 'ecosystem': 1245, 'babulnath': 344, 'sir': 3687, 'example': 1364, 'suhasini': 3908, 'beautifuldurga': 411, 'stun': 3888, 'peafowl': 2893, 'khareghat': 2155, 'guest': 1700, 'typically': 4153, 'vicky': 4285, 'iamonlysg': 1864, 'wild': 4393, 'nilgai': 2691, 'malabar': 2375, 'civet': 719, 'duly': 1220, 'habitat': 1719, 'air': 128, 'cabin': 567, 'crew': 944, 'operate': 2763, 'evacuation': 1344, 'newark': 2678, 'staffer': 3808, 'carrier': 603, 'china': 695, 'iran': 2035, 'israel': 2052, 'canada': 578, 'cargo': 601, 'handle': 1727, 'ai': 122, 'airport': 130, 'aps': 239, 'employee': 1280, 'counter': 922, 'twenty': 4146, 'voluntarily': 4321, 'uneasiness': 4179, 'breathing': 521, 'address': 60, 'chairman': 643, 'rajeev': 3209, 'bansal': 382, 'mention': 2474, 'status': 3835, 'pilot': 2952, 'mission': 2527, 'stranded': 3863, 'operating': 2764, 'charter': 666, 'raise': 3207, 'substandard': 3893, 'flimsy': 1505, 'tear': 3993, 'operation': 2765, 'sanitizers': 3494, 'disinfection': 1152, 'short': 3647, 'industry': 1953, 'practice': 3021, 'inadequacy': 1914, 'compound': 813, 'chance': 647, 'viral': 4307, 'exposure': 1392, 'contamination': 863, 'passenger': 2865, 'reside': 3356, 'executive': 1372, 'nia': 2685, 'file': 1469, 'terror': 4020, 'gurudwara': 1713, 'kabul': 2113, 'afghanistan': 98, 'gunman': 1708, 'soil': 3730, 'victim': 4286, 'channel': 656, 'later': 2227, 'tian': 4057, 'kailash': 2115, 'worshipper': 4427, 'amend': 167, 'empower': 1281, 'interest': 2007, 'cyber': 977, 'trafficking': 4107, 'amended': 168, 'law': 2236, 'august': 307, 'federal': 1449, 'fbi': 1443, 'power': 3014, 'khorasan': 2160, 'province': 3135, 'iskp': 2043, 'stag': 3809, 'avenge': 324, 'alleged': 144, 'atrocity': 291, 'initial': 1968, 'attacker': 295, 'muhsin': 2586, 'alias': 140, 'abu': 20, 'khalid': 2150, 'kasargod': 2136, 'scanner': 3522, 'sajid': 3472, 'behind': 424, 'palakkad': 2826, 'rule': 3438, 'spy': 3796, 'isi': 2042, 'mushin': 2602, 'afghan': 97, 'switch': 3960, 'integrate': 1998, 'send': 3566, 'thus': 4056, 'responsible': 3371, 'focal': 1517, 'buffer': 539, 'screen': 3541, 'entail': 1306, 'component': 812, 'mark': 2412, 'zone': 4459, 'extensive': 1399, 'technical': 3996, 'expert': 1386, 'detailed': 1080, 'defined': 1033, 'geographic': 1622, 'refine': 3278, 'dilshad': 1120, 'garden': 1596, 'bhilwara': 450, 'rajasthan': 3208, 'sangli': 3487, 'srinagar': 3802, 'agra': 115, 'meerut': 2465, 'kasaragode': 2135, 'ernakulam': 1328, 'pathanamthitta': 2873, 'kannur': 2127, 'aggressively': 111, 'completely': 805, 'sari': 3505, 'van': 4247, 'adequately': 62, 'trained': 4110, 'correct': 910, 'especially': 1331, 'magnitude': 2349, 'solution': 3735, 'highly': 1778, 'chand': 648, 'wattal': 4353, 'clinical': 738, 'microbiology': 2489, 'immunology': 1898, 'ganga': 1593, 'clustering': 746, 'occur': 2740, 'friend': 1560, 'colleague': 758, 'index': 1933, 'terminology': 4015, 'various': 4254, 'pour': 3013, 'lav': 2235, 'aggarwal': 109, 'comedian': 769, 'kapil': 2130, 'birthday': 472, 'worship': 4426, 'ninth': 2695, 'navratra': 2646, 'tie': 4060, 'knot': 2182, 'ginni': 1635, 'chatrath': 669, 'weeding': 4363, 'anniversary': 194, 'girl': 1638, 'anayra': 185, 'introduce': 2020, 'picture': 2949, 'caption': 590, 'piece': 2950, 'interview': 2019, 'extravagant': 1407, 'wedding': 4360, 'gala': 1586, 'twin': 4148, 'hindu': 1787, 'ceremony': 637, 'jalandhar': 2065, 'throw': 4054, 'reception': 3263, 'kapilsharma': 2131, 'jan': 2073, 'pst': 3139, 'ginnichatrath': 1636, 'mother': 2574, 'amritsar': 178, 'career': 597, 'standup': 3825, 'comedy': 770, 'rarely': 3228, 'opportunity': 2769, 'finally': 1475, 'marry': 2416, 'usual': 4234, 'dating': 994, 'scenario': 3527, 'throughout': 4052, 'felt': 1457, 'dec': 1013, 'aug': 305, 'feb': 1447, 'nov': 2723, 'thank': 4029, 'ur': 4219, 'unconditional': 4167, 'countrywide': 926, 'oil': 2750, 'ltd': 2336, 'slash': 3703, 'price': 3070, 'liquefy': 2287, 'petroleum': 2929, 'lpg': 2335, 'gas': 1599, 'rs': 3435, 'cylinder': 979, 'kolkata': 2188, 'rupee': 3442, 'chennai': 680, 'reduction': 3274, 'backdrop': 349, 'crude': 961, 'eighteen': 1258, 'tuesday': 4141, 'auto': 316, 'climbsthe': 736, 'flyover': 1516, 'modernist': 2546, 'armsof': 251, 'methodist': 2482, 'churchtake': 708, 'eyeline': 1410, 'swim': 3959, 'throughthe': 4053, 'shikhars': 3637, 'shiv': 3641, 'templestraight': 4008, 'domeof': 1185, 'khilji': 2159, 'shadowsleeps': 3604, 'belovedof': 427, 'god': 1653, 'hereeight': 1775, 'outlive': 2794, 'usall': 4230, 'prince': 3077, 'climb': 734, 'downjust': 1196, 'whitecatches': 4381, 'sunlightand': 3922, 'travelfour': 4120, 'kilometresto': 2169, 'moon': 2564, 'yoursbut': 4453, 'hindsight': 1786, 'still': 3849, 'sea': 3545, 'folks': 1520, 'ozone': 2810, 'alien': 141, 'remember': 3322, 'century': 635, 'pakistan': 2825, 'surprise': 3939, 'strange': 3864, 'toilet': 4079, 'laugh': 2231, 'cut': 976, 'treeswould': 4123, 'poetry': 2981, 'moonis': 2565, 'bothfor': 505, 'baffledthat': 357, 'imagine': 1888, 'favour': 1442, 'sake': 3473, 'climbingthe': 735, 'stair': 3815, 'fourth': 1550, 'wallto': 4337, 'bangla': 378, 'sahib': 3468, 'sits': 3695, 'withthe': 4405, 'remains': 3320, 'sendinggoldintothesky': 3567, 'ring': 3399, 'autospeeding': 320, 'standing': 3823, 'roadside': 3414, 'glimpsebefore': 1641, 'himand': 1783, 'neck': 2656, 'axisof': 337, 'desire': 1073, 'byleaving': 564, 'himyou': 1784, 'holdingthe': 1803, 'glimpseyou': 1642, 'toall': 4073, 'extract': 1405, 'permission': 2911, 'westland': 4371, 'prevail': 3063, 'savitribai': 3516, 'phule': 2940, 'interim': 2010, 'vacation': 4239, 'decision': 1019, 'upload': 4212, 'website': 4359, 'notification': 2721, 'period': 2908, 'carry': 604, 'varsity': 4256, 'registrar': 3289, 'prafulla': 3024, 'pawar': 2885, 'issued': 2054, 'meanwhile': 2451, 'anna': 192, 'closure': 744, 'affiliated': 93, 'institution': 1992, 'sassoon': 3508, 'undergo': 4169, 'treatment': 4122, 'source': 3751, 'ajay': 131, 'chandanwale': 650, 'dean': 1009, 'yesterday': 4448, 'declare': 1020, 'dead': 1005, 'appear': 220, 'shekhar': 3629, 'gaikwad': 1584, 'beaten': 409, 'whisk': 4380, 'babloo': 343, 'madhaul': 2344, 'sitamarhi': 3693, 'guddu': 1699, 'munna': 2599, 'mahto': 2361, 'sudhir': 3900, 'rush': 3444, 'advice': 82, 'assault': 274, 'muzaffarpur': 2608, 'murder': 2600, 'thaga': 4025, 'vikash': 4295, 'madan': 2343, 'deepak': 1027, 'jitendra': 2087, 'prima': 3073, 'facie': 1414, 'dispute': 1159, 'wuhan': 4435, 'hubei': 1842, 'january': 2076, 'arouse': 255, 'variable': 4250, 'worldwide': 4419, 'ignore': 1878, 'novel': 2724, 'fortunately': 1546, 'danger': 988, 'scientific': 3533, 'icmr': 1866, 'active': 45, 'sometime': 3740, 'meter': 2481, 'strike': 3880, 'variation': 4252, 'mortality': 2570, 'range': 3223, 'age': 105, 'smoking': 3718, 'habit': 1718, 'northern': 2716, 'hemisphere': 1772, 'maximum': 2439, 'brunt': 533, 'southern': 3754, 'proximate': 3137, 'equator': 1324, 'escaped': 1329, 'factor': 1418, 'observed': 2735, 'zero': 4457, 'occurrence': 2741, 'immunity': 1897, 'microbial': 2488, 'expose': 1391, 'vast': 4260, 'variety': 4253, 'pathogen': 2874, 'bacteria': 352, 'parasite': 2843, 'generation': 1618, 'broad': 531, 'specific': 3767, 'memory': 2471, 'invader': 2023, 'killer': 2168, 'tuberculosis': 4140, 'hiv': 1796, 'malaria': 2377, 'plague': 2957, 'european': 1341, 'north': 2713, 'context': 865, 'chloroquine': 699, 'hydroxychloroquine': 1859, 'usage': 4229, 'drug': 1212, 'ultimately': 4158, 'epigenetic': 1322, 'environment': 1318, 'literature': 2294, 'ayurveda': 338, 'definitive': 1034, 'effect': 1251, 'spice': 3776, 'augment': 306, 'possible': 3007, 'immune': 1896, 'gene': 1614, 'collectively': 760, 'comprise': 815, 'leucocyte': 2263, 'antigen': 202, 'hla': 1797, 'biological': 465, 'invade': 2022, 'soldier': 3732, 'manner': 2394, 'association': 284, 'attach': 292, 'ineffective': 1954, 'possess': 3004, 'genetic': 1620, 'diversity': 1175, 'caucasian': 615, 'author': 313, 'science': 3532, 'decade': 1014, 'presence': 3055, 'allele': 146, 'ethnic': 1339, 'affect': 90, 'progression': 3108, 'hint': 1790, 'related': 3305, 'certain': 638, 'variant': 4251, 'susceptibility': 3944, 'indirect': 1943, 'recent': 3261, 'rapid': 3227, 'crucial': 960, 'reduced': 3273, 'peripheral': 2909, 'predict': 3036, 'indians': 1939, 'effectively': 1253, 'epidemiological': 1321, 'threshold': 4050, 'timely': 4065, 'desirable': 1072, 'replication': 3335, 'cycle': 978, 'disrupt': 1160, 'whether': 4379, 'interstate': 2017, 'disturb': 1172, 'jeopardise': 2082, 'mitigate': 2530, 'whatever': 4373, 'natural': 2642, 'advantage': 77, 'enjoy': 1299, 'enforce': 1292, 'forcibly': 1530, 'outlier': 2793, 'succeed': 3896, 'minimal': 2511, 'afoot': 99, 'lab': 2201, 'panchkula': 2829, 'initiate': 1970, 'required': 3347, 'machinery': 2341, 'finalise': 1474, 'space': 3758, 'psychiatric': 3142, 'installation': 1986, 'dependent': 1054, 'postgraduate': 3010, 'fresh': 1558, 'await': 330, 'jasjeet': 2077, 'kaur': 2140, 'reject': 3300, 'command': 773, 'chandimandir': 652, 'kharak': 2154, 'mangoli': 2389, 'salon': 3477, 'nada': 2612, 'gurdwara': 1709, 'scientist': 3534, 'devise': 1093, 'diagnostics': 1106, 'kit': 2176, 'manufacture': 2401, 'innovative': 1976, 'disinfect': 1150, 'vaccine': 4240, 'protect': 3123, 'technology': 3997, 'train': 4109, 'webinars': 4358, 'telemedicine': 4003, 'offer': 2744, 'advisor': 86, 'psa': 3138, 'vijayraghavan': 4293, 'tech': 3994, 'core': 900, 'powerful': 3015, 'enemy': 1289, 'unintelligent': 4188, 'success': 3897, 'relentless': 3312, 'intelligently': 2000, 'randomly': 3221, 'task': 3985, 'aspect': 271, 'never': 2676, 'prof': 3102, 'adviser': 85, 'prinsciadvgoi': 3079, 'dst': 1216, 'map': 2405, 'project': 3111, 'model': 2545, 'production': 3101, 'type': 4151, 'suit': 3910, 'ashutosh': 266, 'kanpur': 2128, 'develop': 1086, 'validate': 4243, 'indigenous': 1941, 'instead': 1988, 'amitabh': 175, 'bandyopadhyay': 377, 'bioengineering': 464, 'startup': 3828, 'scitech': 3535, 'incubation': 1929, 'ion': 2033, 'generator': 1619, 'reduce': 3272, 'grant': 1677, 'biotechnology': 466, 'consortium': 846, 'diagnostic': 1105, 'repurposed': 3344, 'molecule': 2555, 'approve': 235, 'commercial': 778, 'organise': 2778, 'consultation': 856, 'guidance': 1701, 'nagpur': 2616, 'nashik': 2635, 'kolhapur': 2185, 'gultekdi': 1705, 'yard': 4439, 'express': 1393, 'businessman': 556, 'saamana': 3450, 'mouthpiece': 2580, 'ruling': 3439, 'sena': 3565, 'bharatiya': 443, 'party': 2861, 'bjp': 478, 'editorial': 1247, 'indulge': 1951, 'marathi': 2408, 'edit': 1246, 'uddhav': 4155, 'rashmi': 3229, 'thackeray': 4024, 'opposition': 2771, 'unity': 4192, 'donate': 1188, 'salary': 3475, 'legislator': 2254, 'mlas': 2537, 'legislative': 2253, 'mlcs': 2539, 'deposit': 1058, 'drawn': 1202, 'do': 1181, 'partiality': 2852, 'cm': 747, 'stream': 3868, 'restrict': 3377, 'multiplying': 2592, 'warn': 4346, 'pneumonia': 2977, 'urged': 4223, 'careful': 598, 'defy': 1035, 'truck': 4133, 'driver': 1207, 'seweri': 3600, 'charkop': 664, 'illegally': 1885, 'vehicle': 4265, 'highway': 1779, 'dhule': 1101, 'vegetable': 4264, 'dadar': 982, 'flock': 1506, 'somaiya': 3736, 'backbay': 348, 'bandra': 376, 'vendor': 4267, 'customer': 975, 'queue': 3181, 'adequate': 61, 'truckloads': 4134, 'fruit': 1565, 'restriction': 3378, 'apmc': 212, 'agricultural': 117, 'vashi': 4259, 'mantralaya': 2398, 'administrative': 68, 'plate': 2961, 'homeless': 1807, 'strand': 3862, 'former': 1542, 'captain': 589, 'mahendra': 2357, 'sakshi': 3474, 'dhoni': 1100, 'misinformation': 2524, 'specify': 3769, 'troll': 4130, 'reported': 3338, 'donation': 1190, 'flood': 1507, 'contribution': 874, 'outlet': 2792, 'story': 3858, 'finch': 1477, 'delivery': 1044, 'bhuvneshwar': 454, 'false': 1428, 'sensitive': 3570, 'shame': 3614, 'journalism': 2097, 'disappear': 1133, 'saakshisrawat': 3448, 'cheer': 678, 'net': 2673, 'csk': 965, 'teammate': 3992, 'sum': 3914, 'via': 4280, 'crowdfunding': 957, 'ketto': 2146, 'charitable': 663, 'mukul': 2590, 'madhav': 2345, 'foundation': 1548, 'praise': 3025, 'wicketkeeper': 4388, 'folder': 1519, 'mean': 2450, 'huge': 1844, 'azad': 340, 'fightforazadi': 1467, 'prabhas': 3018, 'worth': 4428, 'nirmala': 2697, 'tai': 3974, 'retire': 3382, 'sachin': 3453, 'tendulkar': 4012, 'reportedly': 3339, 'bcci': 406, 'sourav': 3750, 'ganguly': 1594, 'pledge': 2967, 'aakash': 5, 'chopra': 703, 'commentator': 776, 'sportstars': 3784, 'bajrang': 363, 'punia': 3157, 'hima': 1781, 'da': 980, 'electron': 1265, 'microscope': 2491, 'publish': 3150, 'journal': 2096, 'closely': 741, 'resemble': 3353, 'syndrome': 3963, 'sars': 3506, 'appearance': 221, 'surface': 3934, 'crown': 958, 'latin': 2228, 'evolve': 1360, 'recognise': 3265, 'receptor': 3264, 'protein': 3126, 'sugar': 3904, 'attachment': 293, 'fuse': 1580, 'host': 1819, 'membrane': 2469, 'entry': 1316, 'nirmal': 2696, 'mutation': 2606, 'evolution': 1359, 'mutate': 2605, 'sequencing': 3577, 'match': 2426, 'particular': 2858, 'particle': 2857, 'preserve': 3058, 'feature': 1446, 'typical': 4152, 'coronaviruses': 905, 'nm': 2701, 'size': 3699, 'patchy': 2870, 'stain': 3813, 'pool': 2993, 'envelope': 1317, 'projection': 3112, 'peplomeric': 2903, 'glycoprotein': 1648, 'bind': 462, 'atanu': 289, 'basu': 398, 'deputy': 1061, 'microscopy': 2492, 'pathology': 2875, 'imaging': 1889, 'centrifugation': 634, 'debris': 1012, 'polymerase': 2990, 'reaction': 3247, 'supernatant': 3925, 'liquid': 2288, 'final': 1473, 'concentration': 819, 'glutaraldehyde': 1647, 'adsorb': 73, 'mesh': 2476, 'copper': 896, 'grid': 1687, 'staining': 3814, 'sodium': 3727, 'phosphotungstic': 2938, 'acid': 37, 'examine': 1363, 'accelerate': 21, 'voltage': 4320, 'mode': 2544, 'camera': 575, 'field': 1464, 'scan': 3521, 'cobbled': 752, 'structure': 3882, 'legend': 2252, 'pti': 3147, 'leading': 2245, 'personalities': 2919, 'combat': 767, 'bid': 455, 'quote': 3186, 'rishabh': 3408, 'pant': 2836, 'prominent': 3114, 'pathan': 2872, 'irfan': 2036, 'yusuf': 4456, 'donated': 1189, 'baroda': 389, 'ngo': 2684, 'underprivileged': 4172, 'sing': 3683, 'uplift': 4211, 'spirit': 3779, 'athlete': 290, 'wrestler': 4432, 'sprinter': 3794, 'coroanvirus': 902, 'uncertainty': 4165, 'reshape': 3355, 'strain': 3860, 'disrupted': 1161, 'livelihood': 2301, 'spurt': 3795, 'racist': 3192, 'particularly': 2859, 'northeast': 2714, 'motorbike': 2578, 'spat': 3761, 'manipur': 2390, 'vijay': 4292, 'speed': 3771, 'prejudice': 3041, 'unfortunate': 4184, 'often': 2749, 'slurs': 3713, 'stigmatisation': 3847, 'depth': 1059, 'apparent': 217, 'perpetrator': 2913, 'originate': 2782, 'thinking': 4042, 'reflect': 3279, 'ignorance': 1877, 'outright': 2795, 'condemn': 822, 'condemnation': 823, 'engage': 1294, 'discriminatory': 1145, 'behaviour': 422, 'unconstitutionally': 4168, 'stigmatise': 3848, 'prevalent': 3064, 'chaos': 657, 'commodity': 785, 'lg': 2266, 'anil': 190, 'baijal': 360, 'retired': 3383, 'steep': 3842, 'nizammuddin': 2699, 'routine': 3432, 'rotation': 3426, 'ani': 189, 'southwest': 3755, 'lodge': 2314, 'fir': 1483, 'lok': 2319, 'nayak': 2647, 'govind': 1664, 'ballabh': 372, 'gb': 1607, 'opd': 2760, 'gurugram': 1715, 'jama': 2067, 'wear': 4356, 'complain': 800, 'sanitisation': 3490, 'drone': 1209, 'narela': 2630, 'http': 1840, 'toi': 4076, 'toidelhi': 4077, 'armed': 250, 'bengaluru': 433, 'lucknow': 2337, 'equip': 1325, 'shortly': 3651, 'harsh': 1741, 'vardhan': 4249, 'manohar': 2396, 'lohia': 2317, 'sacrifice': 3454, 'cancer': 581, 'gramin': 1676, 'sewa': 3599, 'driversin': 1208, 'psv': 3140, 'financial': 1476, 'autorickshaws': 319, 'taxi': 3988, 'rural': 3443, 'rtv': 3436, 'psvs': 3141, 'deploy': 1055, 'sanitise': 3491, 'areadrones': 244, 'sprinkle': 3793, 'hypochlorite': 1863, 'prohibitory': 3110, 'copswhile': 897, 'kandhalvi': 2124, 'reverse': 3391, 'tj': 4072, 'unfold': 4183, 'consecutive': 841, 'delegate': 1037, 'accounting': 32, 'mainly': 2365, 'upsurge': 4216, 'pregnant': 3040, 'eighth': 1259, 'evacuee': 1345, 'jhajjar': 2084, 'campus': 577, 'downloadthe': 1198, 'app': 216, 'newssubscribestart': 2682, 'newspaper': 2681, 'virar': 4308, 'vasai': 4257, 'mla': 2536, 'hitendra': 1795, 'palghar': 2827, 'vishna': 4314, 'waman': 4339, 'viva': 4318, 'shirgaon': 3639, 'intensive': 2002, 'icu': 1867, 'para': 2838, 'premise': 3044, 'cisf': 713, 'kalamboli': 2116, 'mgm': 2486, 'kamothe': 2123, 'obtain': 2737, 'detection': 1083, 'nmmc': 2702, 'nerul': 2672, 'koparkhairane': 2191, 'node': 2705, 'sonawane': 3743, 'fire': 1484, 'brigade': 526, 'spray': 3787, 'shahu': 3608, 'balaji': 366, 'justice': 2108, 'bombay': 492, 'court': 929, 'conferencing': 827, 'judicial': 2102, 'proceeding': 3095, 'booking': 497, 'witness': 4406, 'cent': 631, 'metropolitan': 2484, 'compare': 794, 'owe': 2806, 'adverse': 78, 'real': 3252, 'estate': 1336, 'wholesale': 4384, 'grain': 1675, 'alternate': 156, 'navi': 2644, 'mmr': 2540, 'steady': 3840, 'nakas': 2620, 'afternoon': 103, 'thane': 4028, 'green': 1684, 'hover': 1833, 'gm': 1649, 'extended': 1397, 'got': 1660, 'streamline': 3869, 'mismanagement': 2525, 'rajesh': 3211, 'tope': 4088, 'prithviraj': 3084, 'chavan': 671, 'resume': 3380, 'congress': 838, 'internet': 2014, 'deshmukh': 1067, 'bar': 384, 'housing': 1832, 'msrdc': 2584, 'schedule': 3529, 'razing': 3245, 'amrutanjan': 179, 'bridge': 523, 'lonavala': 2322, 'expressway': 1395, 'designate': 1070, 'division': 1177, 'licence': 2269, 'either': 1260, 'refuse': 3283, 'scare': 3525, 'kharghar': 2156, 'cop': 894, 'struggle': 3883, 'cctv': 620, 'stricter': 3876, 'lift': 2275, 'milk': 2504, 'bread': 514, 'eggs': 1256, 'overcrowd': 2799, 'stock': 3853, 'avoid': 329, 'sharp': 3625, 'onion': 2756, 'sell': 3563, 'kg': 2149, 'relax': 3309, 'enforcement': 1293, 'pet': 2926, 'pmc': 2974, 'appoint': 226, 'refrain': 3280, 'overprice': 2802, 'ton': 4083, 'nath': 2637, 'kovind': 2192, 'setback': 3589, 'rashtrapati': 3230, 'bhavan': 448, 'governor': 1663, 'lieutenant': 2271, 'emphasize': 1278, 'unanimity': 4162, 'scope': 3536, 'laxity': 2238, 'complacency': 799, 'invisible': 2028, 'note': 2718, 'affirm': 94, 'exemplary': 1373, 'courage': 928, 'discipline': 1141, 'solidarity': 3734, 'moreover': 2567, 'needy': 2658, 'compromise': 817, 'unemployed': 4180, 'weak': 4355, 'invite': 2029, 'participant': 2854, 'deliberate': 1040, 'upon': 4213, 'nobody': 2703, 'acknowledge': 38, 'confident': 828, 'vice': 4283, 'venkaiah': 4269, 'naidu': 2617, 'discuss': 1146, 'sequel': 3576, 'select': 3561, 'lgs': 2267, 'apprise': 231, 'wholeheartedly': 4383, 'endorse': 1288, 'expression': 1394, 'minority': 2517, 'govts': 1667, 'steadfastly': 3839, 'adhere': 63, 'opening': 2762, 'remark': 3321, 'constructive': 852, 'discussion': 1147, 'previous': 3068, 'useful': 4232, 'praiseworthy': 3026, 'initiative': 1971, 'enrol': 1304, 'expertise': 1387, 'psychologist': 3145, 'review': 3392, 'meeting': 2467, 'stadium': 3806, 'red': 3271, 'voluntary': 4322, 'complement': 803, 'humanitarian': 1847, 'notwithstanding': 2722, 'ahead': 119, 'determination': 1084, 'closing': 743, 'input': 1977, 'telegram': 4002, 'indianexpress': 1938, 'headline': 1752, 'download': 1197, 'cawach': 619, 'scout': 3540, 'evaluate': 1346, 'innovation': 1975, 'entrepreneurship': 1315, 'sine': 3682, 'incubator': 1930, 'iit': 1881, 'implementing': 1903, 'program': 3106, 'leverage': 2265, 'youthful': 4455, 'energy': 1291, 'extraordinary': 1406, 'speedily': 3772, 'coating': 751, 'information': 1964, 'monitoring': 2560, 'assist': 280, 'plethora': 2968, 'relevant': 3313, 'material': 2427, 'device': 1092, 'professor': 3104, 'boost': 498, 'comprehensive': 814, 'therapeutic': 4034, 'informatics': 1963, 'intervention': 2018, 'mitigation': 2531, 'startups': 3829, 'commercialisation': 779, 'geography': 1625, 'mandate': 2387, 'requisite': 3349, 'assistance': 281, 'deployment': 1057, 'target': 3984, 'deployable': 1056, 'effective': 1252, 'disinfectant': 1151, 'pan': 2828, 'trial': 4125, 'identified': 1870, 'meat': 2453, 'carnivore': 602, 'abattoir': 9, 'zoo': 4460, 'slaughter': 3704, 'buffalo': 538, 'tiger': 4061, 'lion': 2285, 'leopard': 2258, 'jaguar': 2060, 'wolves': 4409, 'jackal': 2058, 'hyena': 1860, 'edmc': 1248, 'suneesh': 3919, 'buxy': 559, 'flag': 1500, 'specie': 3766, 'kindly': 2171, 'permit': 2912, 'procurement': 3098, 'contractor': 872, 'slaughtering': 3705, 'iive': 1882, 'zoological': 4461, 'suffer': 3901, 'municipality': 2598, 'fully': 1570, 'accordingly': 29, 'calf': 569, 'chicken': 687, 'designated': 1071, 'attendant': 299, 'individual': 1945, 'fish': 1493, 'cat': 611, 'jaipur': 2064, 'globe': 1645, 'prolong': 3113, 'adversely': 79, 'captive': 591, 'hunan': 1850, 'thailand': 4026, 'elephant': 1270, 'starvation': 3830, 'stall': 3817, 'tourism': 4093, 'meagre': 2448, 'somerset': 3738, 'euthanising': 1342, 'sex': 3601, 'income': 1924, 'dwindle': 1227, 'ration': 3235, 'xii': 4436, 'graduation': 1674, 'sole': 3733, 'breadwinner': 515, 'ever': 1351, 'abandon': 7, 'saving': 3514, 'barely': 386, 'save': 3513, 'peer': 2897, 'difficulty': 1115, 'plight': 2969, 'cognizance': 754, 'dcw': 1003, 'swati': 3955, 'maliwal': 2381, 'dingy': 1122, 'lack': 2206, 'misbehaviour': 2523, 'superintendent': 3924, 'magistrate': 2348, 'shankar': 3617, 'pandey': 2832, 'inappropriate': 1915, 'enquiry': 1303, 'sp': 3756, 'adm': 66, 'submit': 3890, 'appropriate': 233, 'western': 4370, 'yogi': 4450, 'adityanath': 64, 'guideline': 1703, 'quick': 3182, 'explain': 1388, 'relapse': 3303, 'alternative': 157, 'readied': 3249, 'acutely': 51, 'taxis': 3989, 'dry': 1213, 'implement': 1901, 'verge': 4275, 'earnings': 1234, 'assure': 287, 'construction': 851, 'respective': 3366, 'donald': 1187, 'trump': 4135, 'gravity': 1682, 'usa': 4228, 'developed': 1087, 'abide': 12, 'ventilation': 4271, 'oxygen': 2809, 'mass': 2421, 'undergoing': 4170, 'transit': 4113, 'pas': 2863, 'navigate': 2645, 'standard': 3821, 'procedure': 3093, 'duration': 1222, 'relatives': 3308, 'hotel': 1823, 'matter': 2431, 'fixed': 1499, 'route': 3431, 'specified': 3768, 'validity': 4244, 'aerocity': 88, 'communication': 790, 'australia': 312, 'arrange': 256, 'fox': 1551, 'gurgaon': 1710, 'border': 500, 'igi': 1876, 'sho': 3642, 'alami': 136, 'banglewali': 379, 'pilgrim': 2951, 'cooperation': 890, 'failure': 1422, 'none': 2709, 'emphasise': 1277, 'metre': 2483, 'seminar': 3564, 'fireman': 1487, 'vacate': 4238, 'criticism': 952, 'wherein': 4377, 'mukesh': 2589, 'walia': 4334, 'instruction': 1995, 'congregate': 835, 'sdm': 3543, 'therefore': 4037, 'praveer': 3030, 'ranjan': 3224, 'regularly': 3293, 'pipe': 2953, 'mcd': 2445, 'sdmc': 3544, 'locality': 2306, 'sprayer': 3788, 'dfs': 1095, 'atul': 303, 'garg': 1597, 'wind': 4396, 'hose': 1814, 'reel': 3275, 'douse': 1194, 'flame': 1501, 'billow': 461, 'tall': 3978, 'handy': 1729, 'firefighter': 1486, 'standby': 3822, 'mixed': 2532, 'litre': 2296, 'helmet': 1766, 'pair': 2824, 'goggles': 1655, 'glass': 1640, 'shield': 3635, 'cover': 931, 'mahinder': 2359, 'rakabganj': 3214, 'vicinity': 4284, 'shutter': 3661, 'flower': 1511, 'pot': 3011, 'literally': 2292, 'keeps': 2142, 'retirement': 3384, 'portion': 3000, 'cordoned': 899, 'apolitical': 214, 'outfit': 2791, 'quarterly': 3177, 'jod': 2091, 'mohd': 2552, 'busy': 558, 'sanitation': 3489, 'congest': 833, 'knapsack': 2180, 'pump': 3155, 'fill': 1470, 'percent': 2905, 'narrow': 2633, 'accessibility': 24, 'tanker': 3983, 'capf': 587, 'strengthen': 3872, 'troop': 4132, 'operational': 2766, 'strength': 3871, 'batch': 400, 'reserve': 3354, 'industrial': 1952, 'sashastra': 3507, 'seema': 3559, 'bal': 365, 'midnight': 2495, 'milium': 2503, 'incite': 1921, 'detain': 1081, 'score': 3537, 'injure': 1972, 'justin': 2109, 'celldelhi': 626, 'hatch': 1746, 'iedelhi': 1874, 'mahender': 2355, 'mahendermanral': 2356, 'shelterless': 3631, 'sharjeel': 3623, 'imam': 1890, 'instigator': 1990, 'chargesheet': 662, 'namaaz': 2621, 'impose': 1908, 'noida': 2706, 'purportedly': 3166, 'terrace': 4016, 'heel': 1764, 'apprehension': 229, 'probed': 3091, 'sadiq': 3459, 'jj': 2088, 'sankalp': 3497, 'crpc': 959, 'gautam': 1606, 'buddh': 536, 'unless': 4198, 'fulfil': 1568, 'objective': 2732, 'defiance': 1032, 'ipc': 2034, 'promulgate': 3115, 'unlawfully': 4197, 'negligently': 2664, 'dangerous': 989, 'malignant': 2380, 'saaliq': 3449, 'saqib': 3501, 'jahangir': 2061, 'noor': 2710, 'hasan': 1745, 'shamsher': 3616, 'afroz': 102, 'firoz': 1489, 'razi': 3244, 'alam': 135, 'tabrooq': 3972, 'chhotu': 686, 'underway': 4176, 'budh': 537, 'relative': 3306, 'anurag': 204, 'bhargava': 444, 'cmo': 749, 'majnu': 2368, 'ka': 2111, 'tila': 4062, 'negligent': 2663, 'manish': 2392, 'sisodia': 3690, 'dsgmc': 1215, 'manjinder': 2393, 'sirsa': 3689, 'ply': 2972, 'thereafter': 4035, 'photo': 2939, 'amarinder': 162, 'priest': 3072, 'baljinder': 370, 'langar': 2218, 'hindus': 1788, 'christian': 706, 'sikhs': 3671, 'kick': 2163, 'bungalow': 548, 'stricture': 3878, 'lived': 2300, 'reality': 3254, 'construct': 850, 'site': 3694, 'avinash': 328, 'raigarh': 3202, 'echo': 1242, 'voice': 4319, 'makeshift': 2373, 'hut': 1858, 'battered': 403, 'tin': 4067, 'blur': 488, 'star': 3826, 'roof': 3422, 'kanti': 2129, 'lal': 2210, 'wage': 4328, 'fix': 1498, 'rove': 3434, 'prerequisite': 3051, 'faridabad': 1433, 'ravindra': 3238, 'badarpur': 355, 'parlance': 2847, 'chhattisgarh': 685, 'bengal': 432, 'cooch': 883, 'behar': 421, 'malda': 2379, 'money': 2558, 'holi': 1804, 'badri': 356, 'prasad': 3028, 'baloda': 373, 'masks': 2420, 'soap': 3723, 'borewell': 501, 'incline': 1922, 'toil': 4078, 'landless': 2214, 'acre': 41, 'divide': 1176, 'ratan': 3232, 'advance': 75, 'deduct': 1024, 'monthly': 2563, 'savitri': 3515, 'mahan': 2352, 'dire': 1126, 'strait': 3861, 'azidul': 341, 'miyan': 2534, 'iman': 1891, 'ali': 139, 'halt': 1724, 'govindpuri': 1665, 'disbursal': 1136, 'tide': 4059, 'obstacle': 2736, 'registered': 3288, 'gopal': 1657, 'rai': 3199, 'transparent': 4115, 'application': 224, 'pending': 2900, 'disburse': 1137, 'pension': 2901, 'corpus': 909, 'plus': 2971, 'registration': 3290, 'applicant': 223, 'officially': 2748, 'cry': 964, 'routinely': 3433, 'inability': 1913, 'stick': 3845, 'compulsory': 818, 'dip': 1124, 'fake': 1425, 'verify': 4276, 'online': 2757, 'aside': 268, 'ce': 622, 'database': 992, 'slip': 3707, 'page': 2818, 'vanish': 4248, 'philip': 2934, 'position': 3002, 'manoj': 2397, 'aap': 6, 'revise': 3393, 'restore': 3376, 'circular': 710, 'jitender': 2086, 'aadhaar': 2, 'permanent': 2910, 'workplace': 4416, 'mess': 2477, 'federation': 1450, 'trade': 4102, 'amass': 163, 'cess': 640, 'entitle': 1312, 'disability': 1131, 'educational': 1250, 'maternity': 2428, 'loan': 2304, 'purchase': 3163, 'tool': 4086, 'avail': 321, 'benefit': 431, 'reimbursement': 3298, 'receipt': 3259, 'supreme': 3930, 'questioned': 3180, 'unspent': 4206, 'dtc': 1217, 'ferry': 1459, 'shakarpur': 3610, 'dimts': 1121, 'spokesperson': 3781, 'exodus': 1380, 'bureaucrat': 551, 'disciplinary': 1140, 'dereliction': 1062, 'swell': 3958, 'kuan': 2195, 'deliberately': 1041, 'deny': 1051, 'complainant': 801, 'picket': 2948, 'ito': 2057, 'native': 2641, 'enters': 1308, 'store': 3856, 'hygiene': 1861, 'sanitary': 3488, 'pad': 2814, 'diaper': 1109, 'shopkeeper': 3646, 'wholesaler': 4385, 'replenish': 3334, 'exempt': 1374, 'tissue': 4071, 'paper': 2837, 'suspension': 3948, 'bhalla': 441, 'clarify': 724, 'addendum': 56, 'distinction': 1167, 'wash': 4348, 'shampoo': 3615, 'rajkumar': 3212, 'uday': 4154, 'safdarjung': 3462, 'dsci': 1214, 'sardar': 3503, 'vallabhbhai': 4245, 'patel': 2871, 'svbpch': 3953, 'mohalla': 2548, 'proper': 3118, 'protocol': 3129, 'rao': 3226, 'resign': 3360, 'resignation': 3361, 'renew': 3327, 'accept': 22, 'dmc': 1180, 'varsha': 4255, 'joshi': 2095, 'dha': 1097, 'unwilling': 4208, 'pediatrics': 2895, 'biochemistry': 463, 'preventive': 3067, 'oncology': 2753, 'europe': 1340, 'establish': 1334, 'baba': 342, 'saheb': 3467, 'ambedkar': 165, 'bl': 479, 'sherwal': 3633, 'pulmonary': 3151, 'paramedical': 2842, 'naming': 2625, 'clip': 739, 'forensic': 1535, 'substantiate': 3894, 'purported': 3165, 'names': 2624, 'shahid': 3607, 'represent': 3342, 'copy': 898, 'saab': 3446, 'dcp': 1002, 'meena': 2463, 'essentially': 1333, 'observe': 2734, 'frequently': 1557, 'violent': 4306, 'bail': 361, 'plea': 2965, 'judge': 2101, 'bench': 428, 'badar': 354, 'observation': 2733, 'sopan': 3747, 'lankejar': 2221, 'cheating': 675, 'breach': 513, 'entertain': 1309, 'prisoner': 3083, 'destination': 1077, 'completion': 806, 'lockout': 2313, 'endanger': 1287, 'element': 1269, 'loiter': 2318, 'thereby': 4036, 'rather': 3234, 'absolutely': 19, 'implementation': 1902, 'advisable': 83, 'insist': 1981, 'depute': 1060, 'dharmadhikari': 1099, 'litigant': 2295, 'hearing': 1759, 'convict': 880, 'category': 613, 'urgent': 4224, 'historic': 1792, 'demolish': 1046, 'blast': 483, 'raigad': 3201, 'collector': 761, 'demolition': 1047, 'significantly': 3669, 'raze': 3243, 'diversion': 1174, 'stretch': 3874, 'vehicular': 4266, 'dilapidated': 1119, 'custodian': 973, 'consent': 842, 'regulate': 3294, 'british': 530, 'snarl': 3721, 'accident': 25, 'commissionerate': 782, 'sugarcane': 3905, 'harvest': 1742, 'tent': 4013, 'erect': 1327, 'nagargoje': 2615, 'cane': 584, 'factory': 1419, 'islampur': 2047, 'satara': 3509, 'willing': 4394, 'villager': 4299, 'neither': 2670, 'amenity': 170, 'beed': 418, 'shantivan': 3618, 'migrate': 2498, 'obey': 2731, 'saw': 3517, 'ahmednagar': 121, 'aurangabad': 311, 'osmanabad': 2785, 'buldhana': 543, 'unrelated': 4205, 'ischemic': 2041, 'shinde': 3638, 'constable': 848, 'stayed': 3837, 'overnight': 2801, 'hill': 1780, 'wockhardt': 4408, 'preliminary': 3042, 'sai': 3469, 'previously': 3069, 'occupy': 2739, 'newborn': 2679, 'visited': 4316, 'kandivali': 2125, 'shatabdi': 3627, 'hostel': 1820, 'esis': 1330, 'dijbouti': 1118, 'rahul': 3198, 'dwivedi': 1228, 'sanjay': 3495, 'salunkhe': 3478, 'expedite': 1382, 'precaution': 3032, 'ease': 1235, 'easing': 1237, 'gradual': 1672, 'approval': 234, 'partner': 2860, 'gps': 1669, 'spreading': 3791, 'roll': 3421, 'pcr': 2889, 'half': 1722, 'aaditya': 3, 'desist': 1074, 'publicity': 3149, 'serious': 3579, 'regulatory': 3295, 'maharera': 2354, 'realtor': 3256, 'developer': 1088, 'stipulated': 3851, 'deadline': 1006, 'liable': 2268, 'fin': 1472, 'standstill': 3824, 'relaxation': 3310, 'prabhu': 3019, 'circumstance': 712, 'restart': 3373, 'damage': 986, 'session': 3586, 'collapse': 757, 'dongri': 1191, 'trustee': 4137, 'sadrani': 3460, 'preside': 3059, 'safdarali': 3461, 'husain': 1856, 'karmali': 2133, 'shabbir': 3602, 'dost': 1192, 'mohammed': 2550, 'mukadam': 2588, 'barkat': 387, 'uniya': 4195, 'aabad': 0, 'ponda': 2992, 'diabetes': 1102, 'hypertension': 1862, 'ailment': 126, 'jail': 2062, 'submission': 3889, 'exclusively': 1370, 'punishable': 3159, 'sentence': 3571, 'imprisonment': 1911, 'sardrani': 3504, 'execute': 1371, 'bond': 493, 'surety': 3933, 'cremate': 941, 'cemetery': 630, 'malad': 2376, 'borivali': 502, 'burial': 552, 'convince': 882, 'cremation': 942, 'kid': 2164, 'renal': 3326, 'dialysis': 1108, 'shortness': 3652, 'breath': 519, 'trauma': 4118, 'jogeshwari': 2092, 'ambulance': 166, 'malwani': 2383, 'bury': 553, 'kabrastan': 2112, 'saying': 3519, 'traditional': 4104, 'ritual': 3411, 'dictate': 1110, 'rinsing': 3401, 'fluid': 1514, 'sheet': 3628, 'normal': 2712, 'pit': 2955, 'prescribe': 3053, 'neighbouring': 2669, 'rite': 3410, 'tire': 4070, 'dial': 1107, 'daulat': 997, 'crematorium': 943, 'option': 2772, 'guardian': 1698, 'aslam': 270, 'deceased': 1016, 'sad': 3455, 'rejection': 3301, 'shakeel': 3611, 'admitted': 72, 'hiranandani': 1791, 'fortis': 1544, 'gastric': 1600, 'headache': 1751, 'incharge': 1918, 'motion': 2575, 'breathe': 520, 'mulund': 2594, 'cafeteria': 568, 'annasaheb': 193, 'misal': 2521, 'consultant': 855, 'fumigation': 1571, 'examination': 1362, 'bilateral': 458, 'patch': 2869, 'suspicion': 3949, 'arose': 253, 'underwent': 4177, 'leo': 2257, 'tharmi': 4032, 'raikhan': 3203, 'chinjhroy': 697, 'induced': 1950, 'helpless': 1769, 'arduous': 242, 'manipuris': 2391, 'hospitality': 1818, 'spa': 3757, 'racial': 3190, 'harassment': 1736, 'cooped': 888, 'ft': 1566, 'rent': 3329, 'kalina': 2119, 'pursue': 3168, 'kolivery': 2186, 'pocket': 2978, 'northeastern': 2715, 'household': 1829, 'political': 2986, 'juhu': 2104, 'vile': 4297, 'parle': 2848, 'khar': 2153, 'landlord': 2215, 'fluent': 1513, 'hindi': 1785, 'scar': 3523, 'henmi': 1774, 'ningshen': 2694, 'king': 2173, 'chilli': 693, 'santacruz': 3499, 'employ': 1279, 'assemble': 275, 'hometown': 1808, 'freelance': 1555, 'cast': 609, 'agent': 108, 'film': 1471, 'kuri': 2199, 'sirky': 3688, 'affected': 91, 'comprising': 816, 'tribe': 4126, 'unlike': 4199, 'mizoram': 2535, 'assam': 273, 'sikkim': 3672, 'ningkhanpan': 2693, 'tuikhar': 4142, 'sister': 3691, 'kongsang': 2189, 'cooked': 885, 'prefer': 3037, 'biryani': 473, 'chapati': 658, 'cuisine': 967, 'preference': 3038, 'vastly': 4261, 'sprawl': 3786, 'paralyse': 2839, 'adjoin': 65, 'decease': 1015, 'charles': 665, 'anthony': 200, 'nasal': 2634, 'matunga': 2432, 'precincts': 3034, 'teem': 3998, 'everybody': 1353, 'seriously': 3580, 'mobin': 2543, 'matwale': 2434, 'acquaintance': 39, 'interaction': 2006, 'worsen': 4424, 'cheek': 677, 'jowl': 2100, 'laid': 2208, 'widespread': 4391, 'frontline': 1564, 'grilled': 1689, 'paste': 2868, 'affordable': 96, 'slumdwellers': 3711, 'behrambaug': 425, 'goregaon': 1658, 'opposite': 2770, 'quraishi': 3187, 'afraid': 100, 'andheri': 186, 'lifeline': 2273, 'siddharth': 3663, 'lalitkumar': 2211, 'consult': 853, 'severely': 3598, 'ill': 1883, 'training': 4111, 'naik': 2618, 'plastic': 2960, 'raincoat': 3206, 'thoroughly': 4045, 'reuse': 3388, 'scarce': 3524, 'ruby': 3437, 'barsati': 391, 'kevat': 2147, 'sonography': 3745, 'pushpa': 3170, 'pregnancy': 3039, 'heavy': 1762, 'bleeding': 484, 'gestation': 1628, 'gynaecologist': 1717, 'paediatrician': 2817, 'ashish': 264, 'pathrekar': 2876, 'commuting': 792, 'marble': 2410, 'table': 3967, 'adult': 74, 'cot': 914, 'aabid': 1, 'down': 1195, 'slums': 3712, 'chawls': 673, 'physician': 2944, 'barmare': 388, 'gun': 1706, 'temporarily': 4010, 'jaslok': 2078, 'petit': 2927, 'parsee': 2849, 'candy': 583, 'saifee': 3470, 'ct': 966, 'prevention': 3066, 'mechanism': 2457, 'hospitaal': 1815, 'juvenile': 2110, 'conflict': 832, 'speedy': 3773, 'correction': 911, 'dipak': 1125, 'chattopadhyay': 670, 'exhort': 1377, 'petty': 2930, 'constitute': 849, 'decongesting': 1022, 'prison': 3082, 'punishment': 3160, 'furnish': 1578, 'exclude': 1369, 'laundering': 2233, 'pmla': 2975, 'unlawful': 4196, 'mcoca': 2446, 'narcotic': 2629, 'psychotropic': 3146, 'substance': 3892, 'expedited': 1383, 'touched': 4092, 'malvani': 2382, 'corporator': 908, 'koliwada': 2187, 'nair': 2619, 'anup': 203, 'mose': 2571, 'hectare': 1763, 'precautionary': 3033, 'mohan': 2551, 'aged': 106, 'vikhroli': 4296, 'vernon': 4277, 'desa': 1063, 'buldana': 542, 'suman': 3915, 'chandra': 653, 'counting': 923, 'vidarbha': 4287, 'seoni': 3573, 'indira': 1942, 'gandhi': 1589, 'iggmc': 1875, 'remote': 3324, 'sagar': 3466, 'pande': 2830, 'poddar': 2979, 'neighborhood': 2666, 'sharad': 3621, 'ughade': 4156, 'barricade': 390, 'practically': 3020, 'impossible': 1909, 'tab': 3966, 'resist': 3362, 'eventually': 1350, 'rope': 3424, 'understood': 4174, 'hemangi': 1771, 'worlikar': 4421, 'kem': 2144, 'fishing': 1494, 'whole': 4382, 'hoard': 1798, 'storeroom': 3857, 'rinky': 3400, 'thayyil': 4033, 'prescribed': 3054, 'raid': 3200, 'akbar': 133, 'govandi': 1661, 'godown': 1654, 'seize': 3560, 'cooperative': 891, 'waiver': 4332, 'disbursement': 1138, 'ajit': 132, 'farmer': 1434, 'reiterate': 3299, 'resolve': 3363, 'onset': 2758, 'monsoon': 2561, 'unlikely': 4200, 'maha': 2350, 'vikas': 4294, 'aghadi': 112, 'allocation': 149, 'repeat': 3332, 'defeat': 1029, 'marketplace': 2415, 'versova': 4278, 'dg': 1096, 'chip': 698, 'adani': 53, 'electricity': 1264, 'harmony': 1740, 'accommodate': 26, 'midc': 2493, 'uran': 4220, 'strictly': 3877, 'safely': 3464, 'abraham': 14, 'mathai': 2429, 'eye': 1409, 'param': 2840, 'bir': 468, 'mumbaikars': 2596, 'crowded': 956, 'disperse': 1156, 'null': 2725, 'bazar': 405, 'petrol': 2928, 'refuel': 3281, 'kitchen': 2177, 'invoke': 2030, 'parvez': 2862, 'hanif': 1732, 'kidnapping': 2166, 'chandan': 649, 'krupadas': 2194, 'shevani': 3634, 'ransom': 3225, 'kidnap': 2165, 'robbery': 3417, 'illegal': 1884, 'possession': 3005, 'firearm': 1485, 'pistol': 2954, 'magazine': 2347, 'cartridge': 605, 'sixth': 3698, 'sadhu': 3457, 'vasvani': 4262, 'chowk': 705, 'footware': 1528, 'trader': 4103, 'laxmi': 2239, 'bullet': 545, 'canal': 579, 'lonand': 2321, 'bundgarden': 546, 'abduct': 10, 'grievous': 1688, 'hurt': 1855, 'commit': 783, 'extortion': 1403, 'dacoity': 981, 'disappearance': 1134, 'offender': 2743, 'furtherance': 1579, 'intention': 2004, 'hadapsar': 1720, 'gang': 1592, 'bachchan': 346, 'perusal': 2924, 'competent': 798, 'polymer': 2989, 'milind': 2501, 'kulkarni': 2196, 'electronics': 1267, 'cmet': 748, 'collaboration': 756, 'rangadore': 3222, 'iisc': 1880, 'printing': 3080, 'upper': 4214, 'tract': 4101, 'fibre': 1463, 'polyester': 2988, 'whereas': 4376, 'polypropylene': 2991, 'nanocomposite': 2627, 'tube': 4139, 'universal': 4193, 'utm': 4236, 'nasopharyngeal': 2636, 'ziplock': 4458, 'specimen': 3770, 'ice': 1865, 'making': 2374, 'costly': 913, 'demonstrate': 1048, 'prototype': 3130, 'automated': 317, 'upto': 4217, 'kn': 2179, 'sridhar': 3801, 'urologist': 4227, 'sri': 3800, 'engineering': 1296, 'incomplete': 1925, 'efficacy': 1254, 'cancyte': 582, 'pvt': 3173, 'presently': 3057, 'handful': 1726, 'counsellor': 920, 'scared': 3526, 'geeting': 1611, 'numerous': 2727, 'panicky': 2835, 'counselling': 919, 'communicate': 789, 'attention': 301, 'prerna': 3052, 'deshbhratar': 1066, 'disablities': 1132, 'mobility': 2542, 'teenager': 3999, 'physically': 2943, 'unfit': 4182, 'stress': 3873, 'enlist': 1300, 'availability': 322, 'affiliate': 92, 'chapter': 660, 'associatoon': 285, 'chetan': 682, 'dewan': 1094, 'psychiatrist': 3143, 'anxiety': 205, 'phobia': 2935, 'restlessness': 3375, 'emotional': 1276, 'disturbance': 1173, 'headquarter': 1753, 'formation': 1541, 'geographically': 1624, 'island': 2048, 'geographical': 1623, 'namaste': 2622, 'refers': 3277, 'greet': 1685, 'handshake': 1728, 'telangana': 4001, 'ad': 52, 'hoc': 1800, 'dedicated': 1023, 'contingency': 867, 'civilian': 722, 'holding': 1802, 'footing': 1526, 'wive': 4407, 'awwa': 336, 'necessity': 2655, 'military': 2502, 'recoup': 3267, 'location': 2309, 'veteran': 4279, 'guru': 1712, 'sabha': 3451, 'ganeshpeth': 1591, 'earner': 1232, 'unanimous': 4163, 'gurudwaras': 1714, 'sevadars': 3593, 'sumit': 3916, 'hora': 1813, 'sevadar': 3592, 'packet': 2813, 'earners': 1233, 'bulk': 544, 'circulate': 711, 'gurmeet': 1711, 'virdi': 4309, 'seva': 3591, 'spring': 3792, 'festival': 1460, 'baisakhi': 362, 'draw': 1201, 'circle': 709, 'distress': 1168, 'bj': 477, 'deenanath': 1025, 'mangeshkar': 2388, 'wrap': 4430, 'funeral': 1577, 'minimise': 2512, 'thirty': 4044, 'limit': 2279, 'tablighis': 3971, 'seventy': 3595, 'shravan': 3655, 'hardikar': 1739, 'incidentally': 1920, 'trip': 4129, 'yeshwantrao': 4447, 'memorial': 2470, 'sant': 3498, 'tukaram': 4143, 'en': 1283, 'ycm': 4441, 'subsequently': 3891, 'medication': 2459, 'protocal': 3128, 'wable': 4326, 'complication': 810, 'arrival': 259, 'bhosari': 453, 'ycmh': 4442, 'patiens': 2878, 'initally': 1967, 'stablised': 3805, 'spent': 3775, 'overcome': 2798, 'appreciate': 228, 'moral': 2566, 'qurantine': 3188, 'qurantined': 3189, 'vadgaon': 4241, 'maval': 2437, 'umarga': 4159, 'taluka': 3980, 'stamp': 3818, 'oolice': 2759, 'suv': 3952, 'inquiry': 1978, 'disobey': 1154, 'solapur': 3731, 'viman': 4300, 'hanging': 1731, 'absent': 18, 'attendance': 298, 'discover': 1144, 'panel': 2833, 'balcony': 368, 'ceiling': 623, 'pronounce': 3116, 'suicide': 3909, 'pulse': 3154, 'steal': 3841, 'kashinath': 2137, 'rambhau': 3216, 'kadam': 2114, 'latur': 2230, 'daund': 998, 'relieve': 3315, 'unidentified': 4186, 'knife': 2181, 'assailant': 272, 'shakil': 3612, 'tempo': 4009, 'cash': 608, 'cellphone': 627, 'inspector': 1982, 'padmakar': 2815, 'ghanwat': 1631, 'dattatraya': 995, 'gund': 1707, 'sunil': 3921, 'mahadik': 2351, 'search': 3547, 'disguise': 1149, 'unawares': 4164, 'chase': 667, 'ganesh': 1590, 'sameer': 3480, 'bhosale': 452, 'duo': 1221, 'rob': 3416, 'watchman': 4351, 'loot': 2329, 'ornament': 2783, 'pedestrian': 2894, 'motorcycle': 2579, 'yavat': 4440, 'fate': 1438, 'tonne': 4084, 'harvester': 1743, 'marathwada': 2409, 'shadow': 3603, 'crush': 963, 'season': 3548, 'saurabh': 3512, 'kranti': 2193, 'agrani': 116, 'gd': 1608, 'bapu': 383, 'advertisement': 81, 'mechanised': 2456, 'finish': 1481, 'insider': 1980, 'compensation': 797, 'desai': 1064, 'hatkanagle': 1747, 'apparently': 218, 'authorise': 314, 'patil': 2881, 'yedravkar': 4445, 'roughen': 3428, 'tiny': 4068, 'rustom': 3445, 'bharucha': 446, 'hella': 1765, 'bharat': 442, 'forge': 1537, 'portable': 2999, 'digitise': 1117, 'incessantly': 1916, 'raw': 3239, 'aluminum': 159, 'iron': 2037, 'prashant': 3029, 'jha': 2083, 'nick': 2687, 'booker': 496, 'engineer': 1295, 'foreword': 1536, 'manual': 2399, 'everywhere': 1357, 'bsc': 534, 'degree': 1036, 'gujarat': 1704, 'spare': 3760, 'ahmedabad': 120, 'radio': 3194, 'wireless': 4399, 'rayon': 3242, 'electrical': 1263, 'apprentice': 230, 'territorial': 4018, 'detachment': 1078, 'maratha': 2407, 'inf': 1955, 'battalion': 402, 'repair': 3331, 'persuade': 2922, 'pervez': 2925, 'cardiac': 595, 'surgery': 3937, 'telethermometer': 4005, 'rectal': 3270, 'skin': 3700, 'myocardial': 2610, 'apnea': 213, 'neonate': 2671, 'micronephelometer': 2490, 'lipid': 2286, 'profile': 3105, 'anaesthetic': 180, 'instrumentation': 1996, 'rid': 3396, 'nominate': 2708, 'achievement': 36, 'award': 332, 'drdo': 1203, 'ashok': 265, 'kanetkar': 2126, 'aundh': 309, 'fault': 1441, 'sanjeev': 3496, 'deshpande': 1068, 'anaesthetist': 181, 'limitation': 2280, 'tata': 3986, 'consultancy': 854, 'german': 1626, 'snakebite': 3720, 'scorpion': 3538, 'bite': 475, 'poisoning': 2983, 'cororonavirus': 906, 'mahratta': 2360, 'chamber': 646, 'commerce': 777, 'agriculture': 118, 'prakash': 3027, 'chhabria': 683, 'finolex': 1482, 'brilliant': 528, 'pulmonologists': 3153, 'bhome': 451, 'shashidhara': 3626, 'chabbria': 641, 'mccia': 2444, 'karandikar': 2132, 'compliant': 809, 'tricky': 4127, 'perfect': 2906, 'platform': 2962, 'upgrade': 4210, 'pulmonologist': 3152, 'intensivist': 2003, 'mechanical': 2455, 'honest': 1809, 'excellent': 1365, 'robust': 3418, 'electric': 1262, 'manually': 2400, 'suited': 3912, 'desperate': 1075, 'ventilate': 4270, 'connect': 839, 'kalyani': 2121, 'md': 2447, 'noiseless': 2707, 'genuine': 1621, 'generate': 1617, 'hence': 1773, 'motor': 2577, 'valve': 4246, 'metatronics': 2479, 'lung': 2339, 'electronic': 1266, 'cooler': 887, 'forecast': 1531, 'meteorological': 2480, 'temperature': 4007, 'experienced': 1385, 'humid': 1849, 'reporting': 3341, 'celsius': 628, 'akola': 134, 'parbhani': 2844, 'jalgaon': 2066, 'konkan': 2190, 'imd': 1892, 'celsus': 629, 'sky': 3702, 'dispensary': 1155, 'bhartiya': 445, 'jain': 2063, 'sanghatana': 3486, 'murlidhar': 2601, 'mohol': 2553, 'hotpsot': 1824, 'tabligh': 3969, 'institutional': 1993, 'faciliies': 1415, 'divisional': 1178, 'mhaisekar': 2487, 'sim': 3676, 'card': 594, 'inviduals': 2027, 'pcmc': 2888, 'outcome': 2789, 'baramati': 385, 'jurisdiction': 2107, 'pertain': 2923, 'fine': 1480, 'strigent': 3879, 'violator': 4304, 'impound': 1910, 'purpose': 3167, 'sandeep': 3485, 'sentencing': 3572, 'arguably': 245, 'conviction': 881, 'narayan': 2628, 'shirgaonkar': 3640, 'repercussion': 3333, 'eligible': 1271, 'passport': 2866, 'apply': 225, 'booked': 495, 'establishment': 1335, 'spite': 3780, 'intensify': 2001, 'compliance': 808, 'exemption': 1375, 'exceptional': 1367, 'teacher': 3990, 'arwa': 262, 'chunawala': 707, 'prepping': 3050, 'planning': 2959, 'classroom': 727, 'continually': 868, 'remind': 3323, 'interesting': 2009, 'fun': 1572, 'scene': 3528, 'gaming': 1588, 'apps': 237, 'reunion': 3387, 'housie': 1831, 'unplanned': 4203, 'software': 3728, 'neeti': 2660, 'continent': 866, 'thanks': 4031, 'whatsapp': 4374, 'chat': 668, 'irregular': 2038, 'timing': 4066, 'wherever': 4378, 'dress': 1204, 'sponsor': 3782, 'prize': 3087, 'gift': 1634, 'shenaz': 3632, 'lokhandwala': 2320, 'banker': 381, 'uncle': 4166, 'aunt': 310, 'cousins': 930, 'tambola': 3981, 'sessions': 3587, 'seriousness': 3581, 'nazneen': 2648, 'firoze': 1490, 'majorly': 2371, 'superficial': 3923, 'wednesay': 4361, 'sadabhau': 3456, 'khot': 2161, 'allegation': 142, 'jayant': 2080, 'unfounded': 4185, 'mlc': 2538, 'devendra': 1090, 'dubai': 1218, 'walva': 4338, 'feast': 1445, 'anandrao': 184, 'anonymous': 197, 'aai': 4, 'waive': 4331, 'stamping': 3819, 'ridiculous': 3397, 'politics': 2987, 'techex': 3995, 'mature': 2433, 'suitable': 3911, 'labs': 2205, 'premnath': 3045, 'ncl': 2649, 'spearhead': 3763, 'dbt': 1001, 'birac': 469, 'capable': 585, 'infrared': 1965, 'thermometer': 4039, 'specialised': 3765, 'extensively': 1400, 'choose': 702, 'hub': 1841, 'mylab': 2609}\n"
     ]
    }
   ],
   "source": [
    "print(Tfidf_vect.vocabulary_)"
   ]
  },
  {
   "cell_type": "code",
   "execution_count": 11,
   "metadata": {},
   "outputs": [
    {
     "name": "stdout",
     "output_type": "stream",
     "text": [
      "  (0, 4407)\t0.06492982674767792\n",
      "  (0, 4368)\t0.07277294583892417\n",
      "  (0, 4367)\t0.04061391822252433\n",
      "  (0, 4343)\t0.09731126764396492\n",
      "  (0, 4284)\t0.059662575432039566\n",
      "  (0, 4279)\t0.06492982674767792\n",
      "  (0, 4254)\t0.0907817970358633\n",
      "  (0, 4190)\t0.07003554474759784\n",
      "  (0, 4189)\t0.039651208223512896\n",
      "  (0, 4176)\t0.1118508022984167\n",
      "  (0, 4175)\t0.13617269555379496\n",
      "  (0, 4090)\t0.03501777237379892\n",
      "  (0, 4055)\t0.026342241308416413\n",
      "  (0, 4019)\t0.1060532471414761\n",
      "  (0, 4001)\t0.06492982674767792\n",
      "  (0, 3982)\t0.04865563382198246\n",
      "  (0, 3975)\t0.01893049835865674\n",
      "  (0, 3927)\t0.04061391822252433\n",
      "  (0, 3926)\t0.04402219797226848\n",
      "  (0, 3853)\t0.050658149833570004\n",
      "  (0, 3833)\t0.04061391822252433\n",
      "  (0, 3832)\t0.04402219797226848\n",
      "  (0, 3831)\t0.1070621409477249\n",
      "  (0, 3807)\t0.0664043505455293\n",
      "  (0, 3789)\t0.09194034787513\n",
      "  :\t:\n",
      "  (74, 705)\t0.07224334664303825\n",
      "  (74, 649)\t0.07224334664303825\n",
      "  (74, 625)\t0.05220602720401948\n",
      "  (74, 616)\t0.07792415889536736\n",
      "  (74, 607)\t0.06924863845432729\n",
      "  (74, 605)\t0.1444866932860765\n",
      "  (74, 579)\t0.07224334664303825\n",
      "  (74, 576)\t0.05220602720401948\n",
      "  (74, 556)\t0.06638280639963973\n",
      "  (74, 546)\t0.07224334664303825\n",
      "  (74, 545)\t0.07224334664303825\n",
      "  (74, 494)\t0.04518856001393481\n",
      "  (74, 491)\t0.04131110703992147\n",
      "  (74, 346)\t0.06638280639963973\n",
      "  (74, 315)\t0.032168707765000706\n",
      "  (74, 296)\t0.06638280639963973\n",
      "  (74, 283)\t0.058999398886702456\n",
      "  (74, 258)\t0.09037712002786961\n",
      "  (74, 249)\t0.06222468692352886\n",
      "  (74, 243)\t0.028238213004145404\n",
      "  (74, 145)\t0.04898073916719306\n",
      "  (74, 43)\t0.11911039827664414\n",
      "  (74, 34)\t0.058999398886702456\n",
      "  (74, 33)\t0.04760313815250899\n",
      "  (74, 10)\t0.07224334664303825\n"
     ]
    }
   ],
   "source": [
    "print(Train_X_Tfidf)"
   ]
  },
  {
   "cell_type": "code",
   "execution_count": 15,
   "metadata": {},
   "outputs": [
    {
     "name": "stdout",
     "output_type": "stream",
     "text": [
      "Naive Bayes Accuracy Score ->  42.42424242424242\n"
     ]
    }
   ],
   "source": [
    "# fit the training dataset on the NB classifier\n",
    "Naive = naive_bayes.MultinomialNB()\n",
    "Naive.fit(Train_X_Tfidf,Train_Y)\n",
    "# predict the labels on validation dataset\n",
    "predictions_NB = Naive.predict(Test_X_Tfidf)\n",
    "# Use accuracy_score function to get the accuracy\n",
    "print(\"Naive Bayes Accuracy Score -> \",accuracy_score(predictions_NB, Test_Y)*100)\n",
    "filename = 'naive_bayes_model.sav'\n",
    "pickle.dump(Naive, open(filename, 'wb'))\n",
    "\n",
    "acc=accuracy_score(predictions_NB, Test_Y)*100\n",
    "algorithmname.append('Naive Bayes')\n",
    "algoaccuracy.append(acc)"
   ]
  },
  {
   "cell_type": "code",
   "execution_count": 16,
   "metadata": {},
   "outputs": [
    {
     "name": "stdout",
     "output_type": "stream",
     "text": [
      "precision is 0.7738095238095237\n",
      "recall is 0.47222222222222227\n",
      "f1score is 0.39073359073359076\n"
     ]
    }
   ],
   "source": [
    "from sklearn.metrics import precision_recall_fscore_support\n",
    "op=precision_recall_fscore_support(Test_Y, predictions_NB, average='macro')\n",
    "\n",
    "print(\"precision is \"+str(op[0]))\n",
    "print(\"recall is \"+str(op[1]))\n",
    "print(\"f1score is \"+str(op[2]))\n"
   ]
  },
  {
   "cell_type": "code",
   "execution_count": 17,
   "metadata": {},
   "outputs": [
    {
     "data": {
      "text/plain": [
       "['delhi', 'mumbai', 'pune']"
      ]
     },
     "execution_count": 17,
     "metadata": {},
     "output_type": "execute_result"
    }
   ],
   "source": [
    "listofclasses"
   ]
  },
  {
   "cell_type": "code",
   "execution_count": 18,
   "metadata": {},
   "outputs": [
    {
     "data": {
      "text/plain": [
       "[2,\n",
       " 1,\n",
       " 1,\n",
       " 1,\n",
       " 0,\n",
       " 2,\n",
       " 1,\n",
       " 0,\n",
       " 2,\n",
       " 0,\n",
       " 1,\n",
       " 0,\n",
       " 2,\n",
       " 2,\n",
       " 1,\n",
       " 1,\n",
       " 0,\n",
       " 2,\n",
       " 0,\n",
       " 2,\n",
       " 0,\n",
       " 0,\n",
       " 1,\n",
       " 1,\n",
       " 2,\n",
       " 1,\n",
       " 0,\n",
       " 2,\n",
       " 2,\n",
       " 2,\n",
       " 1,\n",
       " 2,\n",
       " 1]"
      ]
     },
     "execution_count": 18,
     "metadata": {},
     "output_type": "execute_result"
    }
   ],
   "source": [
    "Test_Y.tolist()"
   ]
  },
  {
   "cell_type": "code",
   "execution_count": 19,
   "metadata": {},
   "outputs": [
    {
     "name": "stdout",
     "output_type": "stream",
     "text": [
      "['pune' 'mumbai' 'mumbai' 'mumbai' 'delhi' 'pune' 'mumbai' 'delhi' 'pune'\n",
      " 'delhi' 'mumbai' 'delhi' 'pune' 'pune' 'mumbai' 'mumbai' 'delhi' 'pune'\n",
      " 'delhi' 'pune' 'delhi' 'delhi' 'mumbai' 'mumbai' 'pune' 'mumbai' 'delhi'\n",
      " 'pune' 'pune' 'pune' 'mumbai' 'pune' 'mumbai']\n",
      "['delhi' 'delhi' 'delhi' 'delhi' 'delhi' 'delhi' 'delhi' 'delhi' 'pune'\n",
      " 'delhi' 'delhi' 'delhi' 'pune' 'delhi' 'mumbai' 'delhi' 'delhi' 'delhi'\n",
      " 'delhi' 'delhi' 'delhi' 'delhi' 'delhi' 'mumbai' 'delhi' 'mumbai' 'delhi'\n",
      " 'delhi' 'delhi' 'delhi' 'delhi' 'delhi' 'delhi']\n",
      "[[ 9  0  0]\n",
      " [ 9  3  0]\n",
      " [10  0  2]]\n"
     ]
    },
    {
     "data": {
      "image/png": "[encoded data removed]",
      "text/plain": [
       "<Figure size 432x288 with 1 Axes>"
      ]
     },
     "metadata": {
      "needs_background": "light"
     },
     "output_type": "display_data"
    }
   ],
   "source": [
    "# Example of a confusion matrix in Python\n",
    "from sklearn.metrics import confusion_matrix\n",
    "\n",
    "#listofclasses\n",
    "\n",
    "\n",
    "expected =Encoder.inverse_transform(Test_Y.tolist()) \n",
    "predicted =Encoder.inverse_transform(predictions_NB.tolist()) \n",
    "print(expected)\n",
    "print(predicted)\n",
    "results = confusion_matrix(expected, predicted)\n",
    "print(results)\n",
    "from mlxtend.plotting import plot_confusion_matrix\n",
    "import matplotlib.pyplot as plt\n",
    "import numpy as np\n",
    "\n",
    "binary1 = np.array(results)\n",
    "\n",
    "fig, ax = plot_confusion_matrix(conf_mat=binary1)\n",
    "plt.show()"
   ]
  },
  {
   "cell_type": "code",
   "execution_count": null,
   "metadata": {},
   "outputs": [],
   "source": []
  },
  {
   "cell_type": "code",
   "execution_count": 22,
   "metadata": {},
   "outputs": [
    {
     "data": {
      "image/png": "[encoded data removed]",
      "text/plain": [
       "<Figure size 432x288 with 2 Axes>"
      ]
     },
     "metadata": {
      "needs_background": "light"
     },
     "output_type": "display_data"
    }
   ],
   "source": [
    "import seaborn as sns\n",
    "import matplotlib.pyplot as plt     \n",
    "labels =listofclasses# ['delhi.txt', 'mumbai.txt','pune.txt']\n",
    "ax= plt.subplot()\n",
    "cm = confusion_matrix(expected, predicted, labels)\n",
    "sns.heatmap(cm, annot=True, ax = ax); #annot=True to annotate cells\n",
    "\n",
    "# labels, title and ticks\n",
    "ax.set_xlabel('Predicted labels');ax.set_ylabel('True labels'); \n",
    "ax.set_title('Confusion Matrix'); \n",
    "ax.xaxis.set_ticklabels(labels); ax.yaxis.set_ticklabels(labels);\n"
   ]
  },
  {
   "cell_type": "code",
   "execution_count": 23,
   "metadata": {},
   "outputs": [
    {
     "name": "stdout",
     "output_type": "stream",
     "text": [
      "SVM Accuracy Score ->  54.54545454545454\n"
     ]
    }
   ],
   "source": [
    "# Classifier - Algorithm - SVM\n",
    "# fit the training dataset on the classifier\n",
    "SVM = svm.SVC(C=1.0, kernel='linear', degree=3, gamma='auto')\n",
    "SVM.fit(Train_X_Tfidf,Train_Y)\n",
    "# predict the labels on validation dataset\n",
    "predictions_SVM = SVM.predict(Test_X_Tfidf)\n",
    "# Use accuracy_score function to get the accuracy\n",
    "print(\"SVM Accuracy Score -> \",accuracy_score(predictions_SVM, Test_Y)*100)\n",
    "filename = 'svm_linear_model.sav'\n",
    "pickle.dump(SVM, open(filename, 'wb'))\n",
    "acc=accuracy_score(predictions_SVM, Test_Y)*100\n",
    "algorithmname.append('SVM')\n",
    "algoaccuracy.append(acc)"
   ]
  },
  {
   "cell_type": "code",
   "execution_count": 24,
   "metadata": {},
   "outputs": [
    {
     "name": "stdout",
     "output_type": "stream",
     "text": [
      "precision is 0.554040404040404\n",
      "recall is 0.5648148148148148\n",
      "f1score is 0.5584159674548691\n"
     ]
    }
   ],
   "source": [
    "from sklearn.metrics import precision_recall_fscore_support\n",
    "op=precision_recall_fscore_support(Test_Y, predictions_SVM, average='macro')\n",
    "\n",
    "print(\"precision is \"+str(op[0]))\n",
    "print(\"recall is \"+str(op[1]))\n",
    "print(\"f1score is \"+str(op[2]))\n"
   ]
  },
  {
   "cell_type": "code",
   "execution_count": 25,
   "metadata": {},
   "outputs": [
    {
     "name": "stdout",
     "output_type": "stream",
     "text": [
      "[[7 2 0]\n",
      " [2 5 5]\n",
      " [1 5 6]]\n"
     ]
    },
    {
     "data": {
      "image/png": "[encoded data removed]",
      "text/plain": [
       "<Figure size 432x288 with 1 Axes>"
      ]
     },
     "metadata": {
      "needs_background": "light"
     },
     "output_type": "display_data"
    }
   ],
   "source": [
    "# Example of a confusion matrix in Python\n",
    "from sklearn.metrics import confusion_matrix\n",
    "\n",
    "expected = Test_Y.tolist()\n",
    "predicted =predictions_SVM.tolist()\n",
    "results = confusion_matrix(expected, predicted)\n",
    "print(results)\n",
    "from mlxtend.plotting import plot_confusion_matrix\n",
    "import matplotlib.pyplot as plt\n",
    "import numpy as np\n",
    "\n",
    "binary1 = np.array(results)\n",
    "\n",
    "fig, ax = plot_confusion_matrix(conf_mat=binary1)\n",
    "plt.show()"
   ]
  },
  {
   "cell_type": "code",
   "execution_count": 26,
   "metadata": {},
   "outputs": [
    {
     "data": {
      "image/png": "[encoded data removed]",
      "text/plain": [
       "<Figure size 432x288 with 2 Axes>"
      ]
     },
     "metadata": {
      "needs_background": "light"
     },
     "output_type": "display_data"
    }
   ],
   "source": [
    "import seaborn as sns\n",
    "import matplotlib.pyplot as plt     \n",
    "labels =listofclasses# ['delhi.txt', 'mumbai.txt','pune.txt']\n",
    "ax= plt.subplot()\n",
    "expected =Encoder.inverse_transform(Test_Y.tolist()) \n",
    "predicted =Encoder.inverse_transform(predictions_SVM.tolist()) \n",
    "cm = confusion_matrix(expected, predicted, labels)\n",
    "sns.heatmap(cm, annot=True, ax = ax); #annot=True to annotate cells\n",
    "\n",
    "# labels, title and ticks\n",
    "ax.set_xlabel('Predicted labels');ax.set_ylabel('True labels'); \n",
    "ax.set_title('Confusion Matrix'); \n",
    "ax.xaxis.set_ticklabels(labels); ax.yaxis.set_ticklabels(labels);\n"
   ]
  },
  {
   "cell_type": "code",
   "execution_count": 27,
   "metadata": {},
   "outputs": [
    {
     "name": "stdout",
     "output_type": "stream",
     "text": [
      "SVM Accuracy Score ->  27.27272727272727\n"
     ]
    }
   ],
   "source": [
    "# Classifier - Algorithm - SVM\n",
    "# fit the training dataset on the classifier\n",
    "SVM = svm.SVC(C=1.0, kernel='rbf', degree=3, gamma='auto')\n",
    "SVM.fit(Train_X_Tfidf,Train_Y)\n",
    "# predict the labels on validation dataset\n",
    "predictions_SVM = SVM.predict(Test_X_Tfidf)\n",
    "# Use accuracy_score function to get the accuracy\n",
    "print(\"SVM Accuracy Score -> \",accuracy_score(predictions_SVM, Test_Y)*100)\n",
    "filename = 'svm_rbf_model.sav'\n",
    "pickle.dump(SVM, open(filename, 'wb'))"
   ]
  },
  {
   "cell_type": "code",
   "execution_count": 28,
   "metadata": {},
   "outputs": [
    {
     "name": "stdout",
     "output_type": "stream",
     "text": [
      "SVM Accuracy Score ->  27.27272727272727\n"
     ]
    }
   ],
   "source": [
    "# Classifier - Algorithm - SVM\n",
    "# fit the training dataset on the classifier\n",
    "SVM = svm.SVC(C=1.0, kernel='sigmoid', degree=3, gamma='auto')\n",
    "SVM.fit(Train_X_Tfidf,Train_Y)\n",
    "# predict the labels on validation dataset\n",
    "predictions_SVM = SVM.predict(Test_X_Tfidf)\n",
    "# Use accuracy_score function to get the accuracy\n",
    "print(\"SVM Accuracy Score -> \",accuracy_score(predictions_SVM, Test_Y)*100)\n",
    "filename = 'svm_sigmoid_model.sav'\n",
    "pickle.dump(SVM, open(filename, 'wb'))"
   ]
  },
  {
   "cell_type": "code",
   "execution_count": 29,
   "metadata": {},
   "outputs": [
    {
     "name": "stdout",
     "output_type": "stream",
     "text": [
      "[[ 9  0  0]\n",
      " [12  0  0]\n",
      " [12  0  0]]\n"
     ]
    },
    {
     "data": {
      "image/png": "[encoded data removed]",
      "text/plain": [
       "<Figure size 432x288 with 1 Axes>"
      ]
     },
     "metadata": {
      "needs_background": "light"
     },
     "output_type": "display_data"
    }
   ],
   "source": [
    "# Example of a confusion matrix in Python\n",
    "from sklearn.metrics import confusion_matrix\n",
    "\n",
    "expected = Test_Y.tolist()\n",
    "predicted =predictions_SVM.tolist()\n",
    "results = confusion_matrix(expected, predicted)\n",
    "print(results)\n",
    "from mlxtend.plotting import plot_confusion_matrix\n",
    "import matplotlib.pyplot as plt\n",
    "import numpy as np\n",
    "\n",
    "binary1 = np.array(results)\n",
    "\n",
    "fig, ax = plot_confusion_matrix(conf_mat=binary1)\n",
    "plt.show()"
   ]
  },
  {
   "cell_type": "code",
   "execution_count": 30,
   "metadata": {},
   "outputs": [
    {
     "data": {
      "image/png": "[encoded data removed]",
      "text/plain": [
       "<Figure size 432x288 with 2 Axes>"
      ]
     },
     "metadata": {
      "needs_background": "light"
     },
     "output_type": "display_data"
    }
   ],
   "source": [
    "import seaborn as sns\n",
    "import matplotlib.pyplot as plt     \n",
    "labels =listofclasses# ['delhi.txt', 'mumbai.txt','pune.txt']\n",
    "ax= plt.subplot()\n",
    "expected =Encoder.inverse_transform(Test_Y.tolist()) \n",
    "predicted =Encoder.inverse_transform(predictions_SVM.tolist()) \n",
    "cm = confusion_matrix(expected, predicted, labels)\n",
    "sns.heatmap(cm, annot=True, ax = ax); #annot=True to annotate cells\n",
    "\n",
    "# labels, title and ticks\n",
    "ax.set_xlabel('Predicted labels');ax.set_ylabel('True labels'); \n",
    "ax.set_title('Confusion Matrix'); \n",
    "ax.xaxis.set_ticklabels(labels); ax.yaxis.set_ticklabels(labels);\n"
   ]
  },
  {
   "cell_type": "code",
   "execution_count": 31,
   "metadata": {},
   "outputs": [
    {
     "name": "stdout",
     "output_type": "stream",
     "text": [
      "RF Accuracy Score ->  72.72727272727273\n"
     ]
    }
   ],
   "source": [
    "from sklearn.ensemble import RandomForestClassifier\n",
    "classifier = RandomForestClassifier(n_estimators=2500, random_state=0)\n",
    "classifier.fit(Train_X_Tfidf, Train_Y) \n",
    "\n",
    "predictions_RF = classifier.predict(Test_X_Tfidf)\n",
    "# Use accuracy_score function to get the accuracy\n",
    "print(\"RF Accuracy Score -> \",accuracy_score(predictions_RF, Test_Y)*100)\n",
    "filename = 'random_forest_model.sav'\n",
    "pickle.dump(classifier, open(filename, 'wb'))\n",
    "acc=accuracy_score(predictions_RF, Test_Y)*100\n",
    "algorithmname.append('Random Forest')\n",
    "algoaccuracy.append(acc)"
   ]
  },
  {
   "cell_type": "code",
   "execution_count": 32,
   "metadata": {},
   "outputs": [
    {
     "data": {
      "image/png": "[encoded data removed]",
      "text/plain": [
       "<Figure size 432x288 with 2 Axes>"
      ]
     },
     "metadata": {
      "needs_background": "light"
     },
     "output_type": "display_data"
    }
   ],
   "source": [
    "import seaborn as sns\n",
    "import matplotlib.pyplot as plt     \n",
    "labels =listofclasses# ['delhi.txt', 'mumbai.txt','pune.txt']\n",
    "ax= plt.subplot()\n",
    "expected =Encoder.inverse_transform(Test_Y.tolist()) \n",
    "predicted =Encoder.inverse_transform(predictions_RF.tolist()) \n",
    "cm = confusion_matrix(expected, predicted, labels)\n",
    "sns.heatmap(cm, annot=True, ax = ax); #annot=True to annotate cells\n",
    "\n",
    "# labels, title and ticks\n",
    "ax.set_xlabel('Predicted labels');ax.set_ylabel('True labels'); \n",
    "ax.set_title('Confusion Matrix'); \n",
    "ax.xaxis.set_ticklabels(labels); ax.yaxis.set_ticklabels(labels);\n"
   ]
  },
  {
   "cell_type": "code",
   "execution_count": 33,
   "metadata": {},
   "outputs": [
    {
     "name": "stdout",
     "output_type": "stream",
     "text": [
      "precision is 0.7368686868686868\n",
      "recall is 0.7314814814814815\n",
      "f1score is 0.7268335529205094\n"
     ]
    }
   ],
   "source": [
    "from sklearn.metrics import precision_recall_fscore_support\n",
    "op=precision_recall_fscore_support(Test_Y, predictions_RF, average='macro')\n",
    "\n",
    "print(\"precision is \"+str(op[0]))\n",
    "print(\"recall is \"+str(op[1]))\n",
    "print(\"f1score is \"+str(op[2]))\n"
   ]
  },
  {
   "cell_type": "code",
   "execution_count": 34,
   "metadata": {},
   "outputs": [
    {
     "name": "stdout",
     "output_type": "stream",
     "text": [
      "[[7 2 0]\n",
      " [3 8 1]\n",
      " [2 1 9]]\n"
     ]
    },
    {
     "data": {
      "image/png": "[encoded data removed]",
      "text/plain": [
       "<Figure size 432x288 with 1 Axes>"
      ]
     },
     "metadata": {
      "needs_background": "light"
     },
     "output_type": "display_data"
    }
   ],
   "source": [
    "# Example of a confusion matrix in Python\n",
    "from sklearn.metrics import confusion_matrix\n",
    "\n",
    "expected = Test_Y.tolist()\n",
    "predicted =predictions_RF.tolist()\n",
    "results = confusion_matrix(expected, predicted)\n",
    "print(results)\n",
    "from mlxtend.plotting import plot_confusion_matrix\n",
    "import matplotlib.pyplot as plt\n",
    "import numpy as np\n",
    "\n",
    "binary1 = np.array(results)\n",
    "\n",
    "fig, ax = plot_confusion_matrix(conf_mat=binary1)\n",
    "plt.show()"
   ]
  },
  {
   "cell_type": "code",
   "execution_count": 35,
   "metadata": {},
   "outputs": [
    {
     "name": "stdout",
     "output_type": "stream",
     "text": [
      "RF Accuracy Score ->  72.72727272727273\n"
     ]
    }
   ],
   "source": [
    "from sklearn.ensemble import RandomForestClassifier\n",
    "classifier = RandomForestClassifier(n_estimators=1000, random_state=0)\n",
    "classifier.fit(Train_X_Tfidf, Train_Y) \n",
    "\n",
    "predictions_RF = classifier.predict(Test_X_Tfidf)\n",
    "# Use accuracy_score function to get the accuracy\n",
    "print(\"RF Accuracy Score -> \",accuracy_score(predictions_RF, Test_Y)*100)"
   ]
  },
  {
   "cell_type": "code",
   "execution_count": 36,
   "metadata": {},
   "outputs": [
    {
     "name": "stdout",
     "output_type": "stream",
     "text": [
      "[[7 2 0]\n",
      " [2 8 2]\n",
      " [2 1 9]]\n"
     ]
    },
    {
     "data": {
      "image/png": "[encoded data removed]",
      "text/plain": [
       "<Figure size 432x288 with 1 Axes>"
      ]
     },
     "metadata": {
      "needs_background": "light"
     },
     "output_type": "display_data"
    }
   ],
   "source": [
    "# Example of a confusion matrix in Python\n",
    "from sklearn.metrics import confusion_matrix\n",
    "\n",
    "expected = Test_Y.tolist()\n",
    "predicted =predictions_RF.tolist()\n",
    "results = confusion_matrix(expected, predicted)\n",
    "print(results)\n",
    "from mlxtend.plotting import plot_confusion_matrix\n",
    "import matplotlib.pyplot as plt\n",
    "import numpy as np\n",
    "\n",
    "binary1 = np.array(results)\n",
    "\n",
    "fig, ax = plot_confusion_matrix(conf_mat=binary1)\n",
    "plt.show()"
   ]
  },
  {
   "cell_type": "code",
   "execution_count": 37,
   "metadata": {},
   "outputs": [
    {
     "name": "stdout",
     "output_type": "stream",
     "text": [
      "precision is 0.7272727272727274\n",
      "recall is 0.7314814814814815\n",
      "f1score is 0.7260869565217392\n"
     ]
    }
   ],
   "source": [
    "from sklearn.metrics import precision_recall_fscore_support\n",
    "op=precision_recall_fscore_support(Test_Y, predictions_RF, average='macro')\n",
    "\n",
    "print(\"precision is \"+str(op[0]))\n",
    "print(\"recall is \"+str(op[1]))\n",
    "print(\"f1score is \"+str(op[2]))\n"
   ]
  },
  {
   "cell_type": "code",
   "execution_count": 38,
   "metadata": {},
   "outputs": [
    {
     "data": {
      "text/plain": [
       "(75, 4462)"
      ]
     },
     "execution_count": 38,
     "metadata": {},
     "output_type": "execute_result"
    }
   ],
   "source": [
    "Train_X_Tfidf.shape"
   ]
  },
  {
   "cell_type": "code",
   "execution_count": null,
   "metadata": {},
   "outputs": [],
   "source": []
  },
  {
   "cell_type": "code",
   "execution_count": null,
   "metadata": {},
   "outputs": [],
   "source": []
  },
  {
   "cell_type": "code",
   "execution_count": 39,
   "metadata": {},
   "outputs": [
    {
     "name": "stdout",
     "output_type": "stream",
     "text": [
      "accuracy 0.6060606060606061\n"
     ]
    }
   ],
   "source": [
    "from sklearn.linear_model import LogisticRegression\n",
    "from sklearn.pipeline import Pipeline\n",
    "from sklearn.feature_extraction.text import TfidfTransformer\n",
    "from sklearn.feature_extraction.text import CountVectorizer, TfidfVectorizer\n",
    "from sklearn.metrics import accuracy_score, confusion_matrix\n",
    "from sklearn.metrics import classification_report\n",
    "#Train_X, Test_X, Train_Y, Test_Y = model_selection.train_test_split(Corpus['text_final'],Corpus['label'],test_size=0.3)\n",
    "\n",
    "logreg = Pipeline([('vect', CountVectorizer()),\n",
    "                ('tfidf', TfidfTransformer()),\n",
    "                ('clf', LogisticRegression(n_jobs=1, C=1e5)),\n",
    "               ])\n",
    "logreg.fit(Train_X, Train_Y)\n",
    "\n",
    "\n",
    "\n",
    "y_pred = logreg.predict(Test_X)\n",
    "\n",
    "print('accuracy %s' % accuracy_score(y_pred, Test_Y)*100)\n",
    "acc=accuracy_score(y_pred, Test_Y)*100\n",
    "algorithmname.append('Logistic regression')\n",
    "algoaccuracy.append(acc)\n",
    "#print(classification_report(y_test, y_pred))"
   ]
  },
  {
   "cell_type": "code",
   "execution_count": 40,
   "metadata": {},
   "outputs": [
    {
     "name": "stdout",
     "output_type": "stream",
     "text": [
      "[[8 1 0]\n",
      " [3 5 4]\n",
      " [2 3 7]]\n"
     ]
    },
    {
     "data": {
      "image/png": "[encoded data removed]",
      "text/plain": [
       "<Figure size 432x288 with 1 Axes>"
      ]
     },
     "metadata": {
      "needs_background": "light"
     },
     "output_type": "display_data"
    }
   ],
   "source": [
    "# Example of a confusion matrix in Python\n",
    "from sklearn.metrics import confusion_matrix\n",
    "\n",
    "expected = Test_Y.tolist()\n",
    "predicted =y_pred.tolist()\n",
    "results = confusion_matrix(expected, predicted)\n",
    "print(results)\n",
    "from mlxtend.plotting import plot_confusion_matrix\n",
    "import matplotlib.pyplot as plt\n",
    "import numpy as np\n",
    "\n",
    "binary1 = np.array(results)\n",
    "\n",
    "fig, ax = plot_confusion_matrix(conf_mat=binary1)\n",
    "plt.show()"
   ]
  },
  {
   "cell_type": "code",
   "execution_count": 41,
   "metadata": {},
   "outputs": [
    {
     "data": {
      "image/png": "[encoded data removed]",
      "text/plain": [
       "<Figure size 432x288 with 2 Axes>"
      ]
     },
     "metadata": {
      "needs_background": "light"
     },
     "output_type": "display_data"
    }
   ],
   "source": [
    "import seaborn as sns\n",
    "import matplotlib.pyplot as plt     \n",
    "labels = listofclasses#['delhi.txt', 'mumbai.txt','pune.txt']\n",
    "ax= plt.subplot()\n",
    "expected =Encoder.inverse_transform(Test_Y.tolist()) \n",
    "predicted =Encoder.inverse_transform(y_pred.tolist()) \n",
    "cm = confusion_matrix(expected, predicted, labels)\n",
    "sns.heatmap(cm, annot=True, ax = ax); #annot=True to annotate cells\n",
    "\n",
    "# labels, title and ticks\n",
    "ax.set_xlabel('Predicted labels');ax.set_ylabel('True labels'); \n",
    "ax.set_title('Confusion Matrix'); \n",
    "ax.xaxis.set_ticklabels(labels); ax.yaxis.set_ticklabels(labels);\n"
   ]
  },
  {
   "cell_type": "code",
   "execution_count": 42,
   "metadata": {},
   "outputs": [
    {
     "data": {
      "image/png": "[encoded data removed]",
      "text/plain": [
       "<Figure size 640x480 with 1 Axes>"
      ]
     },
     "metadata": {},
     "output_type": "display_data"
    }
   ],
   "source": [
    "import matplotlib.pyplot as plt; plt.rcdefaults()\n",
    "import numpy as np\n",
    "import matplotlib.pyplot as plt\n",
    "\n",
    "objects =algorithmname\n",
    "y_pos = np.arange(len(objects))\n",
    "performance = algoaccuracy\n",
    "\n",
    "plt.bar(y_pos, performance, align='center', alpha=0.5)\n",
    "plt.xticks(y_pos, objects)\n",
    "plt.ylabel('Accuracy')\n",
    "plt.title('Algorithm')\n",
    "\n",
    "plt.show()"
   ]
  },
  {
   "cell_type": "code",
   "execution_count": null,
   "metadata": {},
   "outputs": [],
   "source": []
  }
 ],
 "metadata": {
  "kernelspec": {
   "display_name": "Python 3",
   "language": "python",
   "name": "python3"
  },
  "language_info": {
   "codemirror_mode": {
    "name": "ipython",
    "version": 3
   },
   "file_extension": ".py",
   "mimetype": "text/x-python",
   "name": "python",
   "nbconvert_exporter": "python",
   "pygments_lexer": "ipython3",
   "version": "3.7.9"
  }
 },
 "nbformat": 4,
 "nbformat_minor": 2
}
