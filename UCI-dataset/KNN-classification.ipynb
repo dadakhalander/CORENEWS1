{
 "cells": [
  {
   "cell_type": "code",
   "execution_count": 3,
   "metadata": {},
   "outputs": [],
   "source": []
  },
  {
   "cell_type": "code",
   "execution_count": 1,
   "metadata": {},
   "outputs": [],
   "source": [
    "from sklearn import metrics, neighbors\n",
    "from sklearn.model_selection import train_test_split, cross_val_score, cross_val_predict\n",
    "import vectorize\n",
    "import util\n",
    "import pandas as pd\n",
    "def get_parser_data(filename):\n",
    "    \"\"\"Method for reading columns of .csv file\"\"\"\n",
    "    file = pd.read_csv(filename, sep = \",\",error_bad_lines=False)\n",
    "    return file\n",
    "def bow_knn():\n",
    "\n",
    "    training_data = get_parser_data(\"uci-news-aggregator.csv\")\n",
    "    X_train, X_test, y_train, y_test = train_test_split(training_data[\"TITLE\"], training_data[\"CATEGORY\"], test_size=0.2, random_state=5)\n",
    "    X_train, X_test = vectorize.createBagOfWords(X_train, X_test, remove_stopwords=True, lemmatize=True, stemmer=False)\n",
    "    knn = neighbors.KNeighborsClassifier(n_neighbors=5, weights='uniform', algorithm='auto', leaf_size=30, p=2, metric='jaccard', metric_params=None, n_jobs=1)\n",
    "\n",
    "    knn.fit(X_train, y_train)\n",
    "    predicted = knn.predict(X_test)\n",
    "    acc = metrics.accuracy_score(y_test, predicted)\n",
    "    print('KNN with BOW accuracy = ' + str(acc * 100) + '%')\n",
    "\n",
    "    scores = cross_val_score(knn, X_train, y_train, cv=3)\n",
    "    print(\"Cross Validation Accuracy: %0.2f (+/- %0.2f)\" % (scores.mean(), scores.std() * 2))\n",
    "    print(scores)\n",
    "    print('\\n')\n",
    "\n",
    "def tfidf_knn():\n",
    "    \"\"\"Method for determining nearest neighbors using bag-of-words model and K-Nearest Neighbor algorithm\"\"\"\n",
    "\n",
    "    training_data = get_parser_data(\"uci-news-aggregator1.csv\")\n",
    "    X_train, X_test, y_train, y_test = train_test_split(training_data[\"TITLE\"], training_data[\"CATEGORY\"],\n",
    "                                                        test_size=0.2, random_state=5)\n",
    "    X_train, X_test = vectorize.createTFIDF(X_train, X_test, remove_stopwords=True, lemmatize=True, stemmer=False)\n",
    "    knn = neighbors.KNeighborsClassifier(n_neighbors=5, weights='distance', algorithm='brute', leaf_size=30, p=2,\n",
    "                                         metric='cosine', metric_params=None, n_jobs=1)\n",
    "\n",
    "    knn.fit(X_train, y_train)\n",
    "    predicted = knn.predict(X_test)\n",
    "    acc = metrics.accuracy_score(y_test, predicted)\n",
    "    print('KNN with TFIDF accuracy = ' + str(acc * 100) + '%')\n",
    "\n",
    "    scores = cross_val_score(knn, X_train, y_train, cv=3)\n",
    "    print(\"Cross Validation Accuracy: %0.2f (+/- %0.2f)\" % (scores.mean(), scores.std() * 2))\n",
    "    print(scores)\n",
    "    return predicted,y_test"
   ]
  },
  {
   "cell_type": "code",
   "execution_count": 18,
   "metadata": {},
   "outputs": [
    {
     "name": "stdout",
     "output_type": "stream",
     "text": [
      "KNN with TFIDF accuracy = 98.5%\n",
      "Cross Validation Accuracy: 1.00 (+/- 0.01)\n",
      "[0.99250936 0.99625468 1.        ]\n"
     ]
    }
   ],
   "source": [
    "predictions,y_test=tfidf_knn()"
   ]
  },
  {
   "cell_type": "code",
   "execution_count": 19,
   "metadata": {},
   "outputs": [
    {
     "name": "stdout",
     "output_type": "stream",
     "text": [
      "Accuracy score:  0.985\n",
      "Recall score:  0.985\n",
      "Precision score:  0.9852393617021277\n",
      "F1 score:  0.9842269883824843\n"
     ]
    }
   ],
   "source": [
    "from sklearn.metrics import accuracy_score, recall_score, precision_score, f1_score\n",
    "\n",
    "print(\"Accuracy score: \", accuracy_score(y_test, predictions))\n",
    "print(\"Recall score: \", recall_score(y_test, predictions, average = 'weighted'))\n",
    "print(\"Precision score: \", precision_score(y_test, predictions, average = 'weighted'))\n",
    "print(\"F1 score: \", f1_score(y_test, predictions, average = 'weighted'))"
   ]
  },
  {
   "cell_type": "code",
   "execution_count": 21,
   "metadata": {},
   "outputs": [
    {
     "name": "stdout",
     "output_type": "stream",
     "text": [
      "['b', 'b', 'b', 'b', 'b', 'b', 'b', 'b', 'b', 'b', 'b', 'b', 'b', 't', 't', 'b', 'b', 'b', 'b', 'b', 'b', 'b', 't', 'b', 'b', 't', 'b', 'b', 'b', 't', 'b', 'b', 'b', 'b', 'b', 'b', 'b', 'b', 'b', 'b', 'b', 'b', 'b', 'b', 'b', 'b', 'b', 't', 'b', 'b', 'b', 'b', 'b', 'b', 'b', 'b', 'b', 'b', 'b', 'b', 'b', 'b', 'b', 'b', 'b', 'b', 'b', 'b', 'b', 'b', 'b', 'b', 'b', 'b', 'b', 't', 'b', 'b', 'b', 'b', 'b', 'b', 't', 'b', 'b', 'b', 'b', 'b', 'b', 'b', 'b', 'b', 'b', 'b', 'b', 't', 'b', 'b', 'b', 'b', 'b', 'b', 'b', 'b', 'b', 'b', 'b', 'b', 'b', 'b', 'b', 'b', 'b', 'b', 't', 'b', 'b', 'b', 'b', 'b', 'b', 'b', 'b', 't', 'b', 'b', 'b', 'b', 'b', 'b', 'b', 'b', 'b', 'b', 'b', 'b', 'b', 't', 'b', 'b', 'b', 'b', 'b', 'b', 'b', 'b', 'b', 'b', 'b', 'b', 't', 'b', 'b', 'b', 'b', 'b', 'b', 'b', 'b', 'b', 'b', 'b', 'b', 't', 'b', 'b', 'b', 'b', 'b', 'b', 'b', 'b', 'b', 'b', 'b', 'b', 'b', 't', 'b', 'b', 'b', 'b', 'b', 'b', 'b', 'b', 'b', 'b', 'b', 'b', 'b', 'b', 'b', 'b', 'b', 'b', 'b', 'b', 'b', 'b']\n",
      "['b', 'b', 'b', 'b', 'b', 'b', 'b', 'b', 'b', 'b', 'b', 'b', 'b', 't', 't', 'b', 'b', 'b', 'b', 'b', 'b', 'b', 't', 'b', 'b', 't', 'b', 'b', 'b', 't', 'b', 'b', 'b', 'b', 'b', 'b', 'b', 'b', 'b', 'b', 'b', 'b', 'b', 'b', 'b', 'b', 'b', 't', 'b', 'b', 'b', 'b', 'b', 'b', 'b', 'b', 'b', 'b', 'b', 'b', 'b', 'b', 'b', 'b', 'b', 'b', 'b', 'b', 'b', 'b', 'b', 'b', 'b', 'b', 'b', 't', 'b', 'b', 'b', 'b', 'b', 'b', 't', 'b', 'b', 'b', 'b', 'b', 'b', 'b', 'b', 'b', 'b', 'b', 'b', 't', 'b', 'b', 'b', 'b', 'b', 'b', 'b', 'b', 'b', 'b', 'b', 'b', 'b', 'b', 'b', 'b', 'b', 'b', 'b', 'b', 'b', 'b', 'b', 'b', 'b', 'b', 'b', 't', 'b', 'b', 'b', 'b', 'b', 'b', 'b', 'b', 'b', 'b', 'b', 'b', 'b', 'b', 'b', 'b', 'b', 'b', 'b', 'b', 'b', 'b', 'b', 'b', 'b', 'b', 'b', 'b', 'b', 'b', 'b', 'b', 'b', 'b', 'b', 'b', 'b', 'b', 'b', 't', 'b', 'b', 'b', 'b', 'b', 'b', 'b', 'b', 'b', 'b', 'b', 'b', 'b', 't', 'b', 'b', 'b', 'b', 'b', 'b', 'b', 'b', 'b', 'b', 'b', 'b', 'b', 'b', 'b', 'b', 'b', 'b', 'b', 'b', 'b', 'b']\n",
      "[[185   0]\n",
      " [  3  12]]\n"
     ]
    },
    {
     "data": {
      "image/png": "[encoded data removed]",
      "text/plain": [
       "<Figure size 432x288 with 1 Axes>"
      ]
     },
     "metadata": {
      "needs_background": "light"
     },
     "output_type": "display_data"
    }
   ],
   "source": [
    "# Example of a confusion matrix in Python\n",
    "from sklearn.metrics import confusion_matrix\n",
    "\n",
    "#listofclasses\n",
    "\n",
    "\n",
    "expected =y_test.tolist()\n",
    "predicted =predictions.tolist() \n",
    "print(expected)\n",
    "print(predicted)\n",
    "results = confusion_matrix(expected, predicted)\n",
    "print(results)\n",
    "from mlxtend.plotting import plot_confusion_matrix\n",
    "import matplotlib.pyplot as plt\n",
    "import numpy as np\n",
    "\n",
    "binary1 = np.array(results)\n",
    "\n",
    "fig, ax = plot_confusion_matrix(conf_mat=binary1)\n",
    "plt.show()"
   ]
  },
  {
   "cell_type": "code",
   "execution_count": null,
   "metadata": {},
   "outputs": [],
   "source": []
  }
 ],
 "metadata": {
  "kernelspec": {
   "display_name": "Python 3",
   "language": "python",
   "name": "python3"
  },
  "language_info": {
   "codemirror_mode": {
    "name": "ipython",
    "version": 3
   },
   "file_extension": ".py",
   "mimetype": "text/x-python",
   "name": "python",
   "nbconvert_exporter": "python",
   "pygments_lexer": "ipython3",
   "version": "3.7.9"
  }
 },
 "nbformat": 4,
 "nbformat_minor": 4
}
